{
 "cells": [
  {
   "cell_type": "code",
   "execution_count": 21,
   "metadata": {},
   "outputs": [
    {
     "data": {
      "application/vnd.plotly.v1+json": {
       "config": {
        "plotlyServerURL": "https://plot.ly"
       },
       "data": [
        {
         "hovertemplate": "<b>%{hovertext}</b><br><br>Station Name=Ronald Reagan Washington National Airport<br>Avg Daily Entries=%{x}<br>percentage=%{y}<extra></extra>",
         "hovertext": [
          "Ronald Reagan Washington National Airport"
         ],
         "legendgroup": "Ronald Reagan Washington National Airport",
         "marker": {
          "color": "#636efa",
          "symbol": "circle"
         },
         "mode": "markers",
         "name": "Ronald Reagan Washington National Airport",
         "orientation": "v",
         "showlegend": true,
         "type": "scatter",
         "x": [
          5720
         ],
         "xaxis": "x",
         "y": [
          9.982517482517482
         ],
         "yaxis": "y"
        },
        {
         "hovertemplate": "<b>%{hovertext}</b><br><br>Station Name=Union Station<br>Avg Daily Entries=%{x}<br>percentage=%{y}<extra></extra>",
         "hovertext": [
          "Union Station"
         ],
         "legendgroup": "Union Station",
         "marker": {
          "color": "#EF553B",
          "symbol": "circle"
         },
         "mode": "markers",
         "name": "Union Station",
         "orientation": "v",
         "showlegend": true,
         "type": "scatter",
         "x": [
          12716
         ],
         "xaxis": "x",
         "y": [
          4.207297892419
         ],
         "yaxis": "y"
        },
        {
         "hovertemplate": "<b>%{hovertext}</b><br><br>Station Name=Columbia Heights<br>Avg Daily Entries=%{x}<br>percentage=%{y}<extra></extra>",
         "hovertext": [
          "Columbia Heights"
         ],
         "legendgroup": "Columbia Heights",
         "marker": {
          "color": "#00cc96",
          "symbol": "circle"
         },
         "mode": "markers",
         "name": "Columbia Heights",
         "orientation": "v",
         "showlegend": true,
         "type": "scatter",
         "x": [
          7742
         ],
         "xaxis": "x",
         "y": [
          6.78119349005425
         ],
         "yaxis": "y"
        },
        {
         "hovertemplate": "<b>%{hovertext}</b><br><br>Station Name=Gallery Place<br>Avg Daily Entries=%{x}<br>percentage=%{y}<extra></extra>",
         "hovertext": [
          "Gallery Place"
         ],
         "legendgroup": "Gallery Place",
         "marker": {
          "color": "#ab63fa",
          "symbol": "circle"
         },
         "mode": "markers",
         "name": "Gallery Place",
         "orientation": "v",
         "showlegend": true,
         "type": "scatter",
         "x": [
          12509
         ],
         "xaxis": "x",
         "y": [
          3.0538012630905746
         ],
         "yaxis": "y"
        },
        {
         "hovertemplate": "<b>%{hovertext}</b><br><br>Station Name=Foggy Bottom-GWU<br>Avg Daily Entries=%{x}<br>percentage=%{y}<extra></extra>",
         "hovertext": [
          "Foggy Bottom-GWU"
         ],
         "legendgroup": "Foggy Bottom-GWU",
         "marker": {
          "color": "#FFA15A",
          "symbol": "circle"
         },
         "mode": "markers",
         "name": "Foggy Bottom-GWU",
         "orientation": "v",
         "showlegend": true,
         "type": "scatter",
         "x": [
          12219
         ],
         "xaxis": "x",
         "y": [
          3.0280710369097306
         ],
         "yaxis": "y"
        },
        {
         "hovertemplate": "<b>%{hovertext}</b><br><br>Station Name=Dulles Airport<br>Avg Daily Entries=%{x}<br>percentage=%{y}<extra></extra>",
         "hovertext": [
          "Dulles Airport"
         ],
         "legendgroup": "Dulles Airport",
         "marker": {
          "color": "#19d3f3",
          "symbol": "circle"
         },
         "mode": "markers",
         "name": "Dulles Airport",
         "orientation": "v",
         "showlegend": true,
         "type": "scatter",
         "x": [
          2328
         ],
         "xaxis": "x",
         "y": [
          15.077319587628866
         ],
         "yaxis": "y"
        },
        {
         "hovertemplate": "<b>%{hovertext}</b><br><br>Station Name=Fort Totten<br>Avg Daily Entries=%{x}<br>percentage=%{y}<extra></extra>",
         "hovertext": [
          "Fort Totten"
         ],
         "legendgroup": "Fort Totten",
         "marker": {
          "color": "#FF6692",
          "symbol": "circle"
         },
         "mode": "markers",
         "name": "Fort Totten",
         "orientation": "v",
         "showlegend": true,
         "type": "scatter",
         "x": [
          6577
         ],
         "xaxis": "x",
         "y": [
          5.032689676144138
         ],
         "yaxis": "y"
        },
        {
         "hovertemplate": "<b>%{hovertext}</b><br><br>Station Name=Dupont Circle<br>Avg Daily Entries=%{x}<br>percentage=%{y}<extra></extra>",
         "hovertext": [
          "Dupont Circle"
         ],
         "legendgroup": "Dupont Circle",
         "marker": {
          "color": "#B6E880",
          "symbol": "circle"
         },
         "mode": "markers",
         "name": "Dupont Circle",
         "orientation": "v",
         "showlegend": true,
         "type": "scatter",
         "x": [
          9957
         ],
         "xaxis": "x",
         "y": [
          3.1836898664256306
         ],
         "yaxis": "y"
        },
        {
         "hovertemplate": "<b>%{hovertext}</b><br><br>Station Name=Rhode Island Ave<br>Avg Daily Entries=%{x}<br>percentage=%{y}<extra></extra>",
         "hovertext": [
          "Rhode Island Ave"
         ],
         "legendgroup": "Rhode Island Ave",
         "marker": {
          "color": "#FF97FF",
          "symbol": "circle"
         },
         "mode": "markers",
         "name": "Rhode Island Ave",
         "orientation": "v",
         "showlegend": true,
         "type": "scatter",
         "x": [
          4116
         ],
         "xaxis": "x",
         "y": [
          7.628765792031097
         ],
         "yaxis": "y"
        },
        {
         "hovertemplate": "<b>%{hovertext}</b><br><br>Station Name=NoMa-Gallaudet U<br>Avg Daily Entries=%{x}<br>percentage=%{y}<extra></extra>",
         "hovertext": [
          "NoMa-Gallaudet U"
         ],
         "legendgroup": "NoMa-Gallaudet U",
         "marker": {
          "color": "#FECB52",
          "symbol": "circle"
         },
         "mode": "markers",
         "name": "NoMa-Gallaudet U",
         "orientation": "v",
         "showlegend": true,
         "type": "scatter",
         "x": [
          9213
         ],
         "xaxis": "x",
         "y": [
          3.408227504613047
         ],
         "yaxis": "y"
        },
        {
         "hovertemplate": "<b>%{hovertext}</b><br><br>Station Name=Georgia Ave-Petworth<br>Avg Daily Entries=%{x}<br>percentage=%{y}<extra></extra>",
         "hovertext": [
          "Georgia Ave-Petworth"
         ],
         "legendgroup": "Georgia Ave-Petworth",
         "marker": {
          "color": "#636efa",
          "symbol": "circle"
         },
         "mode": "markers",
         "name": "Georgia Ave-Petworth",
         "orientation": "v",
         "showlegend": true,
         "type": "scatter",
         "x": [
          4063
         ],
         "xaxis": "x",
         "y": [
          7.383706620723602
         ],
         "yaxis": "y"
        },
        {
         "hovertemplate": "<b>%{hovertext}</b><br><br>Station Name=Anacostia<br>Avg Daily Entries=%{x}<br>percentage=%{y}<extra></extra>",
         "hovertext": [
          "Anacostia"
         ],
         "legendgroup": "Anacostia",
         "marker": {
          "color": "#EF553B",
          "symbol": "circle"
         },
         "mode": "markers",
         "name": "Anacostia",
         "orientation": "v",
         "showlegend": true,
         "type": "scatter",
         "x": [
          3504
         ],
         "xaxis": "x",
         "y": [
          8.476027397260275
         ],
         "yaxis": "y"
        },
        {
         "hovertemplate": "<b>%{hovertext}</b><br><br>Station Name=Shaw-Howard U<br>Avg Daily Entries=%{x}<br>percentage=%{y}<extra></extra>",
         "hovertext": [
          "Shaw-Howard U"
         ],
         "legendgroup": "Shaw-Howard U",
         "marker": {
          "color": "#00cc96",
          "symbol": "circle"
         },
         "mode": "markers",
         "name": "Shaw-Howard U",
         "orientation": "v",
         "showlegend": true,
         "type": "scatter",
         "x": [
          3233
         ],
         "xaxis": "x",
         "y": [
          8.7534797401794
         ],
         "yaxis": "y"
        },
        {
         "hovertemplate": "<b>%{hovertext}</b><br><br>Station Name=Hyattsville Crossing<br>Avg Daily Entries=%{x}<br>percentage=%{y}<extra></extra>",
         "hovertext": [
          "Hyattsville Crossing"
         ],
         "legendgroup": "Hyattsville Crossing",
         "marker": {
          "color": "#ab63fa",
          "symbol": "circle"
         },
         "mode": "markers",
         "name": "Hyattsville Crossing",
         "orientation": "v",
         "showlegend": true,
         "type": "scatter",
         "x": [
          2862
         ],
         "xaxis": "x",
         "y": [
          9.818308874912649
         ],
         "yaxis": "y"
        },
        {
         "hovertemplate": "<b>%{hovertext}</b><br><br>Station Name=Navy Yard-Ballpark<br>Avg Daily Entries=%{x}<br>percentage=%{y}<extra></extra>",
         "hovertext": [
          "Navy Yard-Ballpark"
         ],
         "legendgroup": "Navy Yard-Ballpark",
         "marker": {
          "color": "#FFA15A",
          "symbol": "circle"
         },
         "mode": "markers",
         "name": "Navy Yard-Ballpark",
         "orientation": "v",
         "showlegend": true,
         "type": "scatter",
         "x": [
          8424
         ],
         "xaxis": "x",
         "y": [
          3.2644824311490974
         ],
         "yaxis": "y"
        },
        {
         "hovertemplate": "<b>%{hovertext}</b><br><br>Station Name=Metro Center<br>Avg Daily Entries=%{x}<br>percentage=%{y}<extra></extra>",
         "hovertext": [
          "Metro Center"
         ],
         "legendgroup": "Metro Center",
         "marker": {
          "color": "#19d3f3",
          "symbol": "circle"
         },
         "mode": "markers",
         "name": "Metro Center",
         "orientation": "v",
         "showlegend": true,
         "type": "scatter",
         "x": [
          11981
         ],
         "xaxis": "x",
         "y": [
          2.2285285034638176
         ],
         "yaxis": "y"
        },
        {
         "hovertemplate": "<b>%{hovertext}</b><br><br>Station Name=L'Enfant Plaza<br>Avg Daily Entries=%{x}<br>percentage=%{y}<extra></extra>",
         "hovertext": [
          "L'Enfant Plaza"
         ],
         "legendgroup": "L'Enfant Plaza",
         "marker": {
          "color": "#FF6692",
          "symbol": "circle"
         },
         "mode": "markers",
         "name": "L'Enfant Plaza",
         "orientation": "v",
         "showlegend": true,
         "type": "scatter",
         "x": [
          9171
         ],
         "xaxis": "x",
         "y": [
          2.867735252426126
         ],
         "yaxis": "y"
        },
        {
         "hovertemplate": "<b>%{hovertext}</b><br><br>Station Name=U Street<br>Avg Daily Entries=%{x}<br>percentage=%{y}<extra></extra>",
         "hovertext": [
          "U Street"
         ],
         "legendgroup": "U Street",
         "marker": {
          "color": "#B6E880",
          "symbol": "circle"
         },
         "mode": "markers",
         "name": "U Street",
         "orientation": "v",
         "showlegend": true,
         "type": "scatter",
         "x": [
          4776
         ],
         "xaxis": "x",
         "y": [
          5.318257956448911
         ],
         "yaxis": "y"
        },
        {
         "hovertemplate": "<b>%{hovertext}</b><br><br>Station Name=Greenbelt<br>Avg Daily Entries=%{x}<br>percentage=%{y}<extra></extra>",
         "hovertext": [
          "Greenbelt"
         ],
         "legendgroup": "Greenbelt",
         "marker": {
          "color": "#FF97FF",
          "symbol": "circle"
         },
         "mode": "markers",
         "name": "Greenbelt",
         "orientation": "v",
         "showlegend": true,
         "type": "scatter",
         "x": [
          2947
         ],
         "xaxis": "x",
         "y": [
          8.31353919239905
         ],
         "yaxis": "y"
        },
        {
         "hovertemplate": "<b>%{hovertext}</b><br><br>Station Name=Brookland-CUA<br>Avg Daily Entries=%{x}<br>percentage=%{y}<extra></extra>",
         "hovertext": [
          "Brookland-CUA"
         ],
         "legendgroup": "Brookland-CUA",
         "marker": {
          "color": "#FECB52",
          "symbol": "circle"
         },
         "mode": "markers",
         "name": "Brookland-CUA",
         "orientation": "v",
         "showlegend": true,
         "type": "scatter",
         "x": [
          3820
         ],
         "xaxis": "x",
         "y": [
          6.30890052356021
         ],
         "yaxis": "y"
        },
        {
         "hovertemplate": "<b>%{hovertext}</b><br><br>Station Name=Takoma<br>Avg Daily Entries=%{x}<br>percentage=%{y}<extra></extra>",
         "hovertext": [
          "Takoma"
         ],
         "legendgroup": "Takoma",
         "marker": {
          "color": "#636efa",
          "symbol": "circle"
         },
         "mode": "markers",
         "name": "Takoma",
         "orientation": "v",
         "showlegend": true,
         "type": "scatter",
         "x": [
          3085
         ],
         "xaxis": "x",
         "y": [
          7.811993517017828
         ],
         "yaxis": "y"
        },
        {
         "hovertemplate": "<b>%{hovertext}</b><br><br>Station Name=McPherson Sq<br>Avg Daily Entries=%{x}<br>percentage=%{y}<extra></extra>",
         "hovertext": [
          "McPherson Sq"
         ],
         "legendgroup": "McPherson Sq",
         "marker": {
          "color": "#EF553B",
          "symbol": "circle"
         },
         "mode": "markers",
         "name": "McPherson Sq",
         "orientation": "v",
         "showlegend": true,
         "type": "scatter",
         "x": [
          6243
         ],
         "xaxis": "x",
         "y": [
          3.7802338619253564
         ],
         "yaxis": "y"
        },
        {
         "hovertemplate": "<b>%{hovertext}</b><br><br>Station Name=Benning Road<br>Avg Daily Entries=%{x}<br>percentage=%{y}<extra></extra>",
         "hovertext": [
          "Benning Road"
         ],
         "legendgroup": "Benning Road",
         "marker": {
          "color": "#00cc96",
          "symbol": "circle"
         },
         "mode": "markers",
         "name": "Benning Road",
         "orientation": "v",
         "showlegend": true,
         "type": "scatter",
         "x": [
          1727
         ],
         "xaxis": "x",
         "y": [
          13.54950781702374
         ],
         "yaxis": "y"
        },
        {
         "hovertemplate": "<b>%{hovertext}</b><br><br>Station Name=Minnesota Ave<br>Avg Daily Entries=%{x}<br>percentage=%{y}<extra></extra>",
         "hovertext": [
          "Minnesota Ave"
         ],
         "legendgroup": "Minnesota Ave",
         "marker": {
          "color": "#ab63fa",
          "symbol": "circle"
         },
         "mode": "markers",
         "name": "Minnesota Ave",
         "orientation": "v",
         "showlegend": true,
         "type": "scatter",
         "x": [
          1490
         ],
         "xaxis": "x",
         "y": [
          15.63758389261745
         ],
         "yaxis": "y"
        },
        {
         "hovertemplate": "<b>%{hovertext}</b><br><br>Station Name=Shady Grove<br>Avg Daily Entries=%{x}<br>percentage=%{y}<extra></extra>",
         "hovertext": [
          "Shady Grove"
         ],
         "legendgroup": "Shady Grove",
         "marker": {
          "color": "#FFA15A",
          "symbol": "circle"
         },
         "mode": "markers",
         "name": "Shady Grove",
         "orientation": "v",
         "showlegend": true,
         "type": "scatter",
         "x": [
          5092
         ],
         "xaxis": "x",
         "y": [
          4.556166535742341
         ],
         "yaxis": "y"
        },
        {
         "hovertemplate": "<b>%{hovertext}</b><br><br>Station Name=Farragut North<br>Avg Daily Entries=%{x}<br>percentage=%{y}<extra></extra>",
         "hovertext": [
          "Farragut North"
         ],
         "legendgroup": "Farragut North",
         "marker": {
          "color": "#19d3f3",
          "symbol": "circle"
         },
         "mode": "markers",
         "name": "Farragut North",
         "orientation": "v",
         "showlegend": true,
         "type": "scatter",
         "x": [
          8793
         ],
         "xaxis": "x",
         "y": [
          2.6270897304674174
         ],
         "yaxis": "y"
        },
        {
         "hovertemplate": "<b>%{hovertext}</b><br><br>Station Name=Silver Spring<br>Avg Daily Entries=%{x}<br>percentage=%{y}<extra></extra>",
         "hovertext": [
          "Silver Spring"
         ],
         "legendgroup": "Silver Spring",
         "marker": {
          "color": "#FF6692",
          "symbol": "circle"
         },
         "mode": "markers",
         "name": "Silver Spring",
         "orientation": "v",
         "showlegend": true,
         "type": "scatter",
         "x": [
          3988
         ],
         "xaxis": "x",
         "y": [
          5.591775325977934
         ],
         "yaxis": "y"
        },
        {
         "hovertemplate": "<b>%{hovertext}</b><br><br>Station Name=Tenleytown-AU<br>Avg Daily Entries=%{x}<br>percentage=%{y}<extra></extra>",
         "hovertext": [
          "Tenleytown-AU"
         ],
         "legendgroup": "Tenleytown-AU",
         "marker": {
          "color": "#B6E880",
          "symbol": "circle"
         },
         "mode": "markers",
         "name": "Tenleytown-AU",
         "orientation": "v",
         "showlegend": true,
         "type": "scatter",
         "x": [
          3625
         ],
         "xaxis": "x",
         "y": [
          6.041379310344828
         ],
         "yaxis": "y"
        },
        {
         "hovertemplate": "<b>%{hovertext}</b><br><br>Station Name=Waterfront<br>Avg Daily Entries=%{x}<br>percentage=%{y}<extra></extra>",
         "hovertext": [
          "Waterfront"
         ],
         "legendgroup": "Waterfront",
         "marker": {
          "color": "#FF97FF",
          "symbol": "circle"
         },
         "mode": "markers",
         "name": "Waterfront",
         "orientation": "v",
         "showlegend": true,
         "type": "scatter",
         "x": [
          3468
         ],
         "xaxis": "x",
         "y": [
          6.141868512110726
         ],
         "yaxis": "y"
        },
        {
         "hovertemplate": "<b>%{hovertext}</b><br><br>Station Name=Pentagon City<br>Avg Daily Entries=%{x}<br>percentage=%{y}<extra></extra>",
         "hovertext": [
          "Pentagon City"
         ],
         "legendgroup": "Pentagon City",
         "marker": {
          "color": "#FECB52",
          "symbol": "circle"
         },
         "mode": "markers",
         "name": "Pentagon City",
         "orientation": "v",
         "showlegend": true,
         "type": "scatter",
         "x": [
          7356
         ],
         "xaxis": "x",
         "y": [
          2.895595432300163
         ],
         "yaxis": "y"
        },
        {
         "hovertemplate": "<b>%{hovertext}</b><br><br>Station Name=Stadium-Armory<br>Avg Daily Entries=%{x}<br>percentage=%{y}<extra></extra>",
         "hovertext": [
          "Stadium-Armory"
         ],
         "legendgroup": "Stadium-Armory",
         "marker": {
          "color": "#636efa",
          "symbol": "circle"
         },
         "mode": "markers",
         "name": "Stadium-Armory",
         "orientation": "v",
         "showlegend": true,
         "type": "scatter",
         "x": [
          1828
         ],
         "xaxis": "x",
         "y": [
          11.652078774617069
         ],
         "yaxis": "y"
        },
        {
         "hovertemplate": "<b>%{hovertext}</b><br><br>Station Name=Suitland<br>Avg Daily Entries=%{x}<br>percentage=%{y}<extra></extra>",
         "hovertext": [
          "Suitland"
         ],
         "legendgroup": "Suitland",
         "marker": {
          "color": "#EF553B",
          "symbol": "circle"
         },
         "mode": "markers",
         "name": "Suitland",
         "orientation": "v",
         "showlegend": true,
         "type": "scatter",
         "x": [
          2181
         ],
         "xaxis": "x",
         "y": [
          9.720311783585512
         ],
         "yaxis": "y"
        },
        {
         "hovertemplate": "<b>%{hovertext}</b><br><br>Station Name=Potomac Ave<br>Avg Daily Entries=%{x}<br>percentage=%{y}<extra></extra>",
         "hovertext": [
          "Potomac Ave"
         ],
         "legendgroup": "Potomac Ave",
         "marker": {
          "color": "#00cc96",
          "symbol": "circle"
         },
         "mode": "markers",
         "name": "Potomac Ave",
         "orientation": "v",
         "showlegend": true,
         "type": "scatter",
         "x": [
          2266
         ],
         "xaxis": "x",
         "y": [
          9.179170344218889
         ],
         "yaxis": "y"
        },
        {
         "hovertemplate": "<b>%{hovertext}</b><br><br>Station Name=Farragut West<br>Avg Daily Entries=%{x}<br>percentage=%{y}<extra></extra>",
         "hovertext": [
          "Farragut West"
         ],
         "legendgroup": "Farragut West",
         "marker": {
          "color": "#ab63fa",
          "symbol": "circle"
         },
         "mode": "markers",
         "name": "Farragut West",
         "orientation": "v",
         "showlegend": true,
         "type": "scatter",
         "x": [
          8021
         ],
         "xaxis": "x",
         "y": [
          2.593192868719611
         ],
         "yaxis": "y"
        },
        {
         "hovertemplate": "<b>%{hovertext}</b><br><br>Station Name=Rosslyn<br>Avg Daily Entries=%{x}<br>percentage=%{y}<extra></extra>",
         "hovertext": [
          "Rosslyn"
         ],
         "legendgroup": "Rosslyn",
         "marker": {
          "color": "#FFA15A",
          "symbol": "circle"
         },
         "mode": "markers",
         "name": "Rosslyn",
         "orientation": "v",
         "showlegend": true,
         "type": "scatter",
         "x": [
          6574
         ],
         "xaxis": "x",
         "y": [
          3.1183449954365683
         ],
         "yaxis": "y"
        },
        {
         "hovertemplate": "<b>%{hovertext}</b><br><br>Station Name=West Hyattsville<br>Avg Daily Entries=%{x}<br>percentage=%{y}<extra></extra>",
         "hovertext": [
          "West Hyattsville"
         ],
         "legendgroup": "West Hyattsville",
         "marker": {
          "color": "#19d3f3",
          "symbol": "circle"
         },
         "mode": "markers",
         "name": "West Hyattsville",
         "orientation": "v",
         "showlegend": true,
         "type": "scatter",
         "x": [
          2291
         ],
         "xaxis": "x",
         "y": [
          8.94805761676124
         ],
         "yaxis": "y"
        },
        {
         "hovertemplate": "<b>%{hovertext}</b><br><br>Station Name=Eastern Market<br>Avg Daily Entries=%{x}<br>percentage=%{y}<extra></extra>",
         "hovertext": [
          "Eastern Market"
         ],
         "legendgroup": "Eastern Market",
         "marker": {
          "color": "#FF6692",
          "symbol": "circle"
         },
         "mode": "markers",
         "name": "Eastern Market",
         "orientation": "v",
         "showlegend": true,
         "type": "scatter",
         "x": [
          3729
         ],
         "xaxis": "x",
         "y": [
          5.443818718155001
         ],
         "yaxis": "y"
        },
        {
         "hovertemplate": "<b>%{hovertext}</b><br><br>Station Name=Archives<br>Avg Daily Entries=%{x}<br>percentage=%{y}<extra></extra>",
         "hovertext": [
          "Archives"
         ],
         "legendgroup": "Archives",
         "marker": {
          "color": "#B6E880",
          "symbol": "circle"
         },
         "mode": "markers",
         "name": "Archives",
         "orientation": "v",
         "showlegend": true,
         "type": "scatter",
         "x": [
          4569
         ],
         "xaxis": "x",
         "y": [
          4.377325454147516
         ],
         "yaxis": "y"
        },
        {
         "hovertemplate": "<b>%{hovertext}</b><br><br>Station Name=Naylor Road<br>Avg Daily Entries=%{x}<br>percentage=%{y}<extra></extra>",
         "hovertext": [
          "Naylor Road"
         ],
         "legendgroup": "Naylor Road",
         "marker": {
          "color": "#FF97FF",
          "symbol": "circle"
         },
         "mode": "markers",
         "name": "Naylor Road",
         "orientation": "v",
         "showlegend": true,
         "type": "scatter",
         "x": [
          1219
         ],
         "xaxis": "x",
         "y": [
          15.996718621821165
         ],
         "yaxis": "y"
        },
        {
         "hovertemplate": "<b>%{hovertext}</b><br><br>Station Name=King St-Old Town<br>Avg Daily Entries=%{x}<br>percentage=%{y}<extra></extra>",
         "hovertext": [
          "King St-Old Town"
         ],
         "legendgroup": "King St-Old Town",
         "marker": {
          "color": "#FECB52",
          "symbol": "circle"
         },
         "mode": "markers",
         "name": "King St-Old Town",
         "orientation": "v",
         "showlegend": true,
         "type": "scatter",
         "x": [
          3773
         ],
         "xaxis": "x",
         "y": [
          4.982772329711105
         ],
         "yaxis": "y"
        },
        {
         "hovertemplate": "<b>%{hovertext}</b><br><br>Station Name=New Carrollton<br>Avg Daily Entries=%{x}<br>percentage=%{y}<extra></extra>",
         "hovertext": [
          "New Carrollton"
         ],
         "legendgroup": "New Carrollton",
         "marker": {
          "color": "#636efa",
          "symbol": "circle"
         },
         "mode": "markers",
         "name": "New Carrollton",
         "orientation": "v",
         "showlegend": true,
         "type": "scatter",
         "x": [
          2897
         ],
         "xaxis": "x",
         "y": [
          6.4204349326889885
         ],
         "yaxis": "y"
        },
        {
         "hovertemplate": "<b>%{hovertext}</b><br><br>Station Name=Deanwood<br>Avg Daily Entries=%{x}<br>percentage=%{y}<extra></extra>",
         "hovertext": [
          "Deanwood"
         ],
         "legendgroup": "Deanwood",
         "marker": {
          "color": "#EF553B",
          "symbol": "circle"
         },
         "mode": "markers",
         "name": "Deanwood",
         "orientation": "v",
         "showlegend": true,
         "type": "scatter",
         "x": [
          972
         ],
         "xaxis": "x",
         "y": [
          19.1358024691358
         ],
         "yaxis": "y"
        },
        {
         "hovertemplate": "<b>%{hovertext}</b><br><br>Station Name=Smithsonian<br>Avg Daily Entries=%{x}<br>percentage=%{y}<extra></extra>",
         "hovertext": [
          "Smithsonian"
         ],
         "legendgroup": "Smithsonian",
         "marker": {
          "color": "#00cc96",
          "symbol": "circle"
         },
         "mode": "markers",
         "name": "Smithsonian",
         "orientation": "v",
         "showlegend": true,
         "type": "scatter",
         "x": [
          5463
         ],
         "xaxis": "x",
         "y": [
          3.3498077979132344
         ],
         "yaxis": "y"
        },
        {
         "hovertemplate": "<b>%{hovertext}</b><br><br>Station Name=Branch Ave<br>Avg Daily Entries=%{x}<br>percentage=%{y}<extra></extra>",
         "hovertext": [
          "Branch Ave"
         ],
         "legendgroup": "Branch Ave",
         "marker": {
          "color": "#ab63fa",
          "symbol": "circle"
         },
         "mode": "markers",
         "name": "Branch Ave",
         "orientation": "v",
         "showlegend": true,
         "type": "scatter",
         "x": [
          2238
         ],
         "xaxis": "x",
         "y": [
          8.176943699731904
         ],
         "yaxis": "y"
        },
        {
         "hovertemplate": "<b>%{hovertext}</b><br><br>Station Name=Capitol Heights<br>Avg Daily Entries=%{x}<br>percentage=%{y}<extra></extra>",
         "hovertext": [
          "Capitol Heights"
         ],
         "legendgroup": "Capitol Heights",
         "marker": {
          "color": "#FFA15A",
          "symbol": "circle"
         },
         "mode": "markers",
         "name": "Capitol Heights",
         "orientation": "v",
         "showlegend": true,
         "type": "scatter",
         "x": [
          1212
         ],
         "xaxis": "x",
         "y": [
          14.603960396039604
         ],
         "yaxis": "y"
        },
        {
         "hovertemplate": "<b>%{hovertext}</b><br><br>Station Name=Friendship Heights<br>Avg Daily Entries=%{x}<br>percentage=%{y}<extra></extra>",
         "hovertext": [
          "Friendship Heights"
         ],
         "legendgroup": "Friendship Heights",
         "marker": {
          "color": "#19d3f3",
          "symbol": "circle"
         },
         "mode": "markers",
         "name": "Friendship Heights",
         "orientation": "v",
         "showlegend": true,
         "type": "scatter",
         "x": [
          3597
         ],
         "xaxis": "x",
         "y": [
          4.865165415624132
         ],
         "yaxis": "y"
        },
        {
         "hovertemplate": "<b>%{hovertext}</b><br><br>Station Name=Southern Ave<br>Avg Daily Entries=%{x}<br>percentage=%{y}<extra></extra>",
         "hovertext": [
          "Southern Ave"
         ],
         "legendgroup": "Southern Ave",
         "marker": {
          "color": "#FF6692",
          "symbol": "circle"
         },
         "mode": "markers",
         "name": "Southern Ave",
         "orientation": "v",
         "showlegend": true,
         "type": "scatter",
         "x": [
          2285
         ],
         "xaxis": "x",
         "y": [
          7.527352297592997
         ],
         "yaxis": "y"
        },
        {
         "hovertemplate": "<b>%{hovertext}</b><br><br>Station Name=Ballston-MU<br>Avg Daily Entries=%{x}<br>percentage=%{y}<extra></extra>",
         "hovertext": [
          "Ballston-MU"
         ],
         "legendgroup": "Ballston-MU",
         "marker": {
          "color": "#B6E880",
          "symbol": "circle"
         },
         "mode": "markers",
         "name": "Ballston-MU",
         "orientation": "v",
         "showlegend": true,
         "type": "scatter",
         "x": [
          5201
         ],
         "xaxis": "x",
         "y": [
          3.2493751201691983
         ],
         "yaxis": "y"
        },
        {
         "hovertemplate": "<b>%{hovertext}</b><br><br>Station Name=Woodley Park<br>Avg Daily Entries=%{x}<br>percentage=%{y}<extra></extra>",
         "hovertext": [
          "Woodley Park"
         ],
         "legendgroup": "Woodley Park",
         "marker": {
          "color": "#FF97FF",
          "symbol": "circle"
         },
         "mode": "markers",
         "name": "Woodley Park",
         "orientation": "v",
         "showlegend": true,
         "type": "scatter",
         "x": [
          3722
         ],
         "xaxis": "x",
         "y": [
          4.379365932294466
         ],
         "yaxis": "y"
        },
        {
         "hovertemplate": "<b>%{hovertext}</b><br><br>Station Name=Downtown Largo<br>Avg Daily Entries=%{x}<br>percentage=%{y}<extra></extra>",
         "hovertext": [
          "Downtown Largo"
         ],
         "legendgroup": "Downtown Largo",
         "marker": {
          "color": "#FECB52",
          "symbol": "circle"
         },
         "mode": "markers",
         "name": "Downtown Largo",
         "orientation": "v",
         "showlegend": true,
         "type": "scatter",
         "x": [
          1935
         ],
         "xaxis": "x",
         "y": [
          8.113695090439277
         ],
         "yaxis": "y"
        },
        {
         "hovertemplate": "<b>%{hovertext}</b><br><br>Station Name=Rockville<br>Avg Daily Entries=%{x}<br>percentage=%{y}<extra></extra>",
         "hovertext": [
          "Rockville"
         ],
         "legendgroup": "Rockville",
         "marker": {
          "color": "#636efa",
          "symbol": "circle"
         },
         "mode": "markers",
         "name": "Rockville",
         "orientation": "v",
         "showlegend": true,
         "type": "scatter",
         "x": [
          2152
         ],
         "xaxis": "x",
         "y": [
          7.063197026022305
         ],
         "yaxis": "y"
        },
        {
         "hovertemplate": "<b>%{hovertext}</b><br><br>Station Name=Huntington<br>Avg Daily Entries=%{x}<br>percentage=%{y}<extra></extra>",
         "hovertext": [
          "Huntington"
         ],
         "legendgroup": "Huntington",
         "marker": {
          "color": "#EF553B",
          "symbol": "circle"
         },
         "mode": "markers",
         "name": "Huntington",
         "orientation": "v",
         "showlegend": true,
         "type": "scatter",
         "x": [
          3139
         ],
         "xaxis": "x",
         "y": [
          4.746734628862695
         ],
         "yaxis": "y"
        },
        {
         "hovertemplate": "<b>%{hovertext}</b><br><br>Station Name=Mt Vernon Sq<br>Avg Daily Entries=%{x}<br>percentage=%{y}<extra></extra>",
         "hovertext": [
          "Mt Vernon Sq"
         ],
         "legendgroup": "Mt Vernon Sq",
         "marker": {
          "color": "#00cc96",
          "symbol": "circle"
         },
         "mode": "markers",
         "name": "Mt Vernon Sq",
         "orientation": "v",
         "showlegend": true,
         "type": "scatter",
         "x": [
          3675
         ],
         "xaxis": "x",
         "y": [
          3.8639455782312924
         ],
         "yaxis": "y"
        },
        {
         "hovertemplate": "<b>%{hovertext}</b><br><br>Station Name=Crystal City<br>Avg Daily Entries=%{x}<br>percentage=%{y}<extra></extra>",
         "hovertext": [
          "Crystal City"
         ],
         "legendgroup": "Crystal City",
         "marker": {
          "color": "#ab63fa",
          "symbol": "circle"
         },
         "mode": "markers",
         "name": "Crystal City",
         "orientation": "v",
         "showlegend": true,
         "type": "scatter",
         "x": [
          4725
         ],
         "xaxis": "x",
         "y": [
          3.0052910052910056
         ],
         "yaxis": "y"
        },
        {
         "hovertemplate": "<b>%{hovertext}</b><br><br>Station Name=Twinbrook<br>Avg Daily Entries=%{x}<br>percentage=%{y}<extra></extra>",
         "hovertext": [
          "Twinbrook"
         ],
         "legendgroup": "Twinbrook",
         "marker": {
          "color": "#FFA15A",
          "symbol": "circle"
         },
         "mode": "markers",
         "name": "Twinbrook",
         "orientation": "v",
         "showlegend": true,
         "type": "scatter",
         "x": [
          2139
         ],
         "xaxis": "x",
         "y": [
          6.638616175783076
         ],
         "yaxis": "y"
        },
        {
         "hovertemplate": "<b>%{hovertext}</b><br><br>Station Name=Van Ness-UDC<br>Avg Daily Entries=%{x}<br>percentage=%{y}<extra></extra>",
         "hovertext": [
          "Van Ness-UDC"
         ],
         "legendgroup": "Van Ness-UDC",
         "marker": {
          "color": "#19d3f3",
          "symbol": "circle"
         },
         "mode": "markers",
         "name": "Van Ness-UDC",
         "orientation": "v",
         "showlegend": true,
         "type": "scatter",
         "x": [
          3050
         ],
         "xaxis": "x",
         "y": [
          4.557377049180328
         ],
         "yaxis": "y"
        },
        {
         "hovertemplate": "<b>%{hovertext}</b><br><br>Station Name=Franconia-Springfield<br>Avg Daily Entries=%{x}<br>percentage=%{y}<extra></extra>",
         "hovertext": [
          "Franconia-Springfield"
         ],
         "legendgroup": "Franconia-Springfield",
         "marker": {
          "color": "#FF6692",
          "symbol": "circle"
         },
         "mode": "markers",
         "name": "Franconia-Springfield",
         "orientation": "v",
         "showlegend": true,
         "type": "scatter",
         "x": [
          2977
         ],
         "xaxis": "x",
         "y": [
          4.601948270070541
         ],
         "yaxis": "y"
        },
        {
         "hovertemplate": "<b>%{hovertext}</b><br><br>Station Name=College Park-U of Md<br>Avg Daily Entries=%{x}<br>percentage=%{y}<extra></extra>",
         "hovertext": [
          "College Park-U of Md"
         ],
         "legendgroup": "College Park-U of Md",
         "marker": {
          "color": "#B6E880",
          "symbol": "circle"
         },
         "mode": "markers",
         "name": "College Park-U of Md",
         "orientation": "v",
         "showlegend": true,
         "type": "scatter",
         "x": [
          2112
         ],
         "xaxis": "x",
         "y": [
          6.4393939393939394
         ],
         "yaxis": "y"
        },
        {
         "hovertemplate": "<b>%{hovertext}</b><br><br>Station Name=North Bethesda<br>Avg Daily Entries=%{x}<br>percentage=%{y}<extra></extra>",
         "hovertext": [
          "North Bethesda"
         ],
         "legendgroup": "North Bethesda",
         "marker": {
          "color": "#FF97FF",
          "symbol": "circle"
         },
         "mode": "markers",
         "name": "North Bethesda",
         "orientation": "v",
         "showlegend": true,
         "type": "scatter",
         "x": [
          1856
         ],
         "xaxis": "x",
         "y": [
          7.273706896551724
         ],
         "yaxis": "y"
        },
        {
         "hovertemplate": "<b>%{hovertext}</b><br><br>Station Name=Judiciary Square<br>Avg Daily Entries=%{x}<br>percentage=%{y}<extra></extra>",
         "hovertext": [
          "Judiciary Square"
         ],
         "legendgroup": "Judiciary Square",
         "marker": {
          "color": "#FECB52",
          "symbol": "circle"
         },
         "mode": "markers",
         "name": "Judiciary Square",
         "orientation": "v",
         "showlegend": true,
         "type": "scatter",
         "x": [
          3259
         ],
         "xaxis": "x",
         "y": [
          3.8969008898435105
         ],
         "yaxis": "y"
        },
        {
         "hovertemplate": "<b>%{hovertext}</b><br><br>Station Name=Federal Triangle<br>Avg Daily Entries=%{x}<br>percentage=%{y}<extra></extra>",
         "hovertext": [
          "Federal Triangle"
         ],
         "legendgroup": "Federal Triangle",
         "marker": {
          "color": "#636efa",
          "symbol": "circle"
         },
         "mode": "markers",
         "name": "Federal Triangle",
         "orientation": "v",
         "showlegend": true,
         "type": "scatter",
         "x": [
          3491
         ],
         "xaxis": "x",
         "y": [
          3.4947006588370093
         ],
         "yaxis": "y"
        },
        {
         "hovertemplate": "<b>%{hovertext}</b><br><br>Station Name=Morgan Boulevard<br>Avg Daily Entries=%{x}<br>percentage=%{y}<extra></extra>",
         "hovertext": [
          "Morgan Boulevard"
         ],
         "legendgroup": "Morgan Boulevard",
         "marker": {
          "color": "#EF553B",
          "symbol": "circle"
         },
         "mode": "markers",
         "name": "Morgan Boulevard",
         "orientation": "v",
         "showlegend": true,
         "type": "scatter",
         "x": [
          985
         ],
         "xaxis": "x",
         "y": [
          11.6751269035533
         ],
         "yaxis": "y"
        },
        {
         "hovertemplate": "<b>%{hovertext}</b><br><br>Station Name=Pentagon<br>Avg Daily Entries=%{x}<br>percentage=%{y}<extra></extra>",
         "hovertext": [
          "Pentagon"
         ],
         "legendgroup": "Pentagon",
         "marker": {
          "color": "#00cc96",
          "symbol": "circle"
         },
         "mode": "markers",
         "name": "Pentagon",
         "orientation": "v",
         "showlegend": true,
         "type": "scatter",
         "x": [
          6051
         ],
         "xaxis": "x",
         "y": [
          1.8839861179970254
         ],
         "yaxis": "y"
        },
        {
         "hovertemplate": "<b>%{hovertext}</b><br><br>Station Name=Cleveland Park<br>Avg Daily Entries=%{x}<br>percentage=%{y}<extra></extra>",
         "hovertext": [
          "Cleveland Park"
         ],
         "legendgroup": "Cleveland Park",
         "marker": {
          "color": "#ab63fa",
          "symbol": "circle"
         },
         "mode": "markers",
         "name": "Cleveland Park",
         "orientation": "v",
         "showlegend": true,
         "type": "scatter",
         "x": [
          2279
         ],
         "xaxis": "x",
         "y": [
          4.738920579201404
         ],
         "yaxis": "y"
        },
        {
         "hovertemplate": "<b>%{hovertext}</b><br><br>Station Name=Glenmont<br>Avg Daily Entries=%{x}<br>percentage=%{y}<extra></extra>",
         "hovertext": [
          "Glenmont"
         ],
         "legendgroup": "Glenmont",
         "marker": {
          "color": "#FFA15A",
          "symbol": "circle"
         },
         "mode": "markers",
         "name": "Glenmont",
         "orientation": "v",
         "showlegend": true,
         "type": "scatter",
         "x": [
          2043
         ],
         "xaxis": "x",
         "y": [
          5.286343612334802
         ],
         "yaxis": "y"
        },
        {
         "hovertemplate": "<b>%{hovertext}</b><br><br>Station Name=Landover<br>Avg Daily Entries=%{x}<br>percentage=%{y}<extra></extra>",
         "hovertext": [
          "Landover"
         ],
         "legendgroup": "Landover",
         "marker": {
          "color": "#19d3f3",
          "symbol": "circle"
         },
         "mode": "markers",
         "name": "Landover",
         "orientation": "v",
         "showlegend": true,
         "type": "scatter",
         "x": [
          844
         ],
         "xaxis": "x",
         "y": [
          12.085308056872037
         ],
         "yaxis": "y"
        },
        {
         "hovertemplate": "<b>%{hovertext}</b><br><br>Station Name=Bethesda<br>Avg Daily Entries=%{x}<br>percentage=%{y}<extra></extra>",
         "hovertext": [
          "Bethesda"
         ],
         "legendgroup": "Bethesda",
         "marker": {
          "color": "#FF6692",
          "symbol": "circle"
         },
         "mode": "markers",
         "name": "Bethesda",
         "orientation": "v",
         "showlegend": true,
         "type": "scatter",
         "x": [
          4448
         ],
         "xaxis": "x",
         "y": [
          2.180755395683453
         ],
         "yaxis": "y"
        },
        {
         "hovertemplate": "<b>%{hovertext}</b><br><br>Station Name=Capitol South<br>Avg Daily Entries=%{x}<br>percentage=%{y}<extra></extra>",
         "hovertext": [
          "Capitol South"
         ],
         "legendgroup": "Capitol South",
         "marker": {
          "color": "#B6E880",
          "symbol": "circle"
         },
         "mode": "markers",
         "name": "Capitol South",
         "orientation": "v",
         "showlegend": true,
         "type": "scatter",
         "x": [
          4176
         ],
         "xaxis": "x",
         "y": [
          2.203065134099617
         ],
         "yaxis": "y"
        },
        {
         "hovertemplate": "<b>%{hovertext}</b><br><br>Station Name=Braddock Road<br>Avg Daily Entries=%{x}<br>percentage=%{y}<extra></extra>",
         "hovertext": [
          "Braddock Road"
         ],
         "legendgroup": "Braddock Road",
         "marker": {
          "color": "#FF97FF",
          "symbol": "circle"
         },
         "mode": "markers",
         "name": "Braddock Road",
         "orientation": "v",
         "showlegend": true,
         "type": "scatter",
         "x": [
          2068
         ],
         "xaxis": "x",
         "y": [
          4.4003868471953576
         ],
         "yaxis": "y"
        },
        {
         "hovertemplate": "<b>%{hovertext}</b><br><br>Station Name=Forest Glen<br>Avg Daily Entries=%{x}<br>percentage=%{y}<extra></extra>",
         "hovertext": [
          "Forest Glen"
         ],
         "legendgroup": "Forest Glen",
         "marker": {
          "color": "#FECB52",
          "symbol": "circle"
         },
         "mode": "markers",
         "name": "Forest Glen",
         "orientation": "v",
         "showlegend": true,
         "type": "scatter",
         "x": [
          861
         ],
         "xaxis": "x",
         "y": [
          10.452961672473867
         ],
         "yaxis": "y"
        },
        {
         "hovertemplate": "<b>%{hovertext}</b><br><br>Station Name=Wheaton<br>Avg Daily Entries=%{x}<br>percentage=%{y}<extra></extra>",
         "hovertext": [
          "Wheaton"
         ],
         "legendgroup": "Wheaton",
         "marker": {
          "color": "#636efa",
          "symbol": "circle"
         },
         "mode": "markers",
         "name": "Wheaton",
         "orientation": "v",
         "showlegend": true,
         "type": "scatter",
         "x": [
          1419
         ],
         "xaxis": "x",
         "y": [
          6.13107822410148
         ],
         "yaxis": "y"
        },
        {
         "hovertemplate": "<b>%{hovertext}</b><br><br>Station Name=Medical Center<br>Avg Daily Entries=%{x}<br>percentage=%{y}<extra></extra>",
         "hovertext": [
          "Medical Center"
         ],
         "legendgroup": "Medical Center",
         "marker": {
          "color": "#EF553B",
          "symbol": "circle"
         },
         "mode": "markers",
         "name": "Medical Center",
         "orientation": "v",
         "showlegend": true,
         "type": "scatter",
         "x": [
          2470
         ],
         "xaxis": "x",
         "y": [
          3.4008097165991904
         ],
         "yaxis": "y"
        },
        {
         "hovertemplate": "<b>%{hovertext}</b><br><br>Station Name=Congress Heights<br>Avg Daily Entries=%{x}<br>percentage=%{y}<extra></extra>",
         "hovertext": [
          "Congress Heights"
         ],
         "legendgroup": "Congress Heights",
         "marker": {
          "color": "#00cc96",
          "symbol": "circle"
         },
         "mode": "markers",
         "name": "Congress Heights",
         "orientation": "v",
         "showlegend": true,
         "type": "scatter",
         "x": [
          1505
         ],
         "xaxis": "x",
         "y": [
          5.4485049833887045
         ],
         "yaxis": "y"
        },
        {
         "hovertemplate": "<b>%{hovertext}</b><br><br>Station Name=Potomac Yard<br>Avg Daily Entries=%{x}<br>percentage=%{y}<extra></extra>",
         "hovertext": [
          "Potomac Yard"
         ],
         "legendgroup": "Potomac Yard",
         "marker": {
          "color": "#ab63fa",
          "symbol": "circle"
         },
         "mode": "markers",
         "name": "Potomac Yard",
         "orientation": "v",
         "showlegend": true,
         "type": "scatter",
         "x": [
          1404
         ],
         "xaxis": "x",
         "y": [
          5.698005698005698
         ],
         "yaxis": "y"
        },
        {
         "hovertemplate": "<b>%{hovertext}</b><br><br>Station Name=Clarendon<br>Avg Daily Entries=%{x}<br>percentage=%{y}<extra></extra>",
         "hovertext": [
          "Clarendon"
         ],
         "legendgroup": "Clarendon",
         "marker": {
          "color": "#FFA15A",
          "symbol": "circle"
         },
         "mode": "markers",
         "name": "Clarendon",
         "orientation": "v",
         "showlegend": true,
         "type": "scatter",
         "x": [
          2837
         ],
         "xaxis": "x",
         "y": [
          2.784631653154741
         ],
         "yaxis": "y"
        },
        {
         "hovertemplate": "<b>%{hovertext}</b><br><br>Station Name=Van Dorn Street<br>Avg Daily Entries=%{x}<br>percentage=%{y}<extra></extra>",
         "hovertext": [
          "Van Dorn Street"
         ],
         "legendgroup": "Van Dorn Street",
         "marker": {
          "color": "#19d3f3",
          "symbol": "circle"
         },
         "mode": "markers",
         "name": "Van Dorn Street",
         "orientation": "v",
         "showlegend": true,
         "type": "scatter",
         "x": [
          1323
         ],
         "xaxis": "x",
         "y": [
          5.971277399848828
         ],
         "yaxis": "y"
        },
        {
         "hovertemplate": "<b>%{hovertext}</b><br><br>Station Name=Dunn Loring<br>Avg Daily Entries=%{x}<br>percentage=%{y}<extra></extra>",
         "hovertext": [
          "Dunn Loring"
         ],
         "legendgroup": "Dunn Loring",
         "marker": {
          "color": "#FF6692",
          "symbol": "circle"
         },
         "mode": "markers",
         "name": "Dunn Loring",
         "orientation": "v",
         "showlegend": true,
         "type": "scatter",
         "x": [
          1582
         ],
         "xaxis": "x",
         "y": [
          4.740834386852086
         ],
         "yaxis": "y"
        },
        {
         "hovertemplate": "<b>%{hovertext}</b><br><br>Station Name=Tysons<br>Avg Daily Entries=%{x}<br>percentage=%{y}<extra></extra>",
         "hovertext": [
          "Tysons"
         ],
         "legendgroup": "Tysons",
         "marker": {
          "color": "#B6E880",
          "symbol": "circle"
         },
         "mode": "markers",
         "name": "Tysons",
         "orientation": "v",
         "showlegend": true,
         "type": "scatter",
         "x": [
          2126
         ],
         "xaxis": "x",
         "y": [
          3.339604891815616
         ],
         "yaxis": "y"
        },
        {
         "hovertemplate": "<b>%{hovertext}</b><br><br>Station Name=Vienna<br>Avg Daily Entries=%{x}<br>percentage=%{y}<extra></extra>",
         "hovertext": [
          "Vienna"
         ],
         "legendgroup": "Vienna",
         "marker": {
          "color": "#FF97FF",
          "symbol": "circle"
         },
         "mode": "markers",
         "name": "Vienna",
         "orientation": "v",
         "showlegend": true,
         "type": "scatter",
         "x": [
          3520
         ],
         "xaxis": "x",
         "y": [
          1.875
         ],
         "yaxis": "y"
        },
        {
         "hovertemplate": "<b>%{hovertext}</b><br><br>Station Name=Addison Road<br>Avg Daily Entries=%{x}<br>percentage=%{y}<extra></extra>",
         "hovertext": [
          "Addison Road"
         ],
         "legendgroup": "Addison Road",
         "marker": {
          "color": "#FECB52",
          "symbol": "circle"
         },
         "mode": "markers",
         "name": "Addison Road",
         "orientation": "v",
         "showlegend": true,
         "type": "scatter",
         "x": [
          1348
         ],
         "xaxis": "x",
         "y": [
          4.673590504451038
         ],
         "yaxis": "y"
        },
        {
         "hovertemplate": "<b>%{hovertext}</b><br><br>Station Name=Grosvenor-Strathmore<br>Avg Daily Entries=%{x}<br>percentage=%{y}<extra></extra>",
         "hovertext": [
          "Grosvenor-Strathmore"
         ],
         "legendgroup": "Grosvenor-Strathmore",
         "marker": {
          "color": "#636efa",
          "symbol": "circle"
         },
         "mode": "markers",
         "name": "Grosvenor-Strathmore",
         "orientation": "v",
         "showlegend": true,
         "type": "scatter",
         "x": [
          2262
         ],
         "xaxis": "x",
         "y": [
          2.7851458885941645
         ],
         "yaxis": "y"
        },
        {
         "hovertemplate": "<b>%{hovertext}</b><br><br>Station Name=Wiehle-Reston East<br>Avg Daily Entries=%{x}<br>percentage=%{y}<extra></extra>",
         "hovertext": [
          "Wiehle-Reston East"
         ],
         "legendgroup": "Wiehle-Reston East",
         "marker": {
          "color": "#EF553B",
          "symbol": "circle"
         },
         "mode": "markers",
         "name": "Wiehle-Reston East",
         "orientation": "v",
         "showlegend": true,
         "type": "scatter",
         "x": [
          1478
         ],
         "xaxis": "x",
         "y": [
          3.924221921515562
         ],
         "yaxis": "y"
        },
        {
         "hovertemplate": "<b>%{hovertext}</b><br><br>Station Name=Virginia Sq-GMU<br>Avg Daily Entries=%{x}<br>percentage=%{y}<extra></extra>",
         "hovertext": [
          "Virginia Sq-GMU"
         ],
         "legendgroup": "Virginia Sq-GMU",
         "marker": {
          "color": "#00cc96",
          "symbol": "circle"
         },
         "mode": "markers",
         "name": "Virginia Sq-GMU",
         "orientation": "v",
         "showlegend": true,
         "type": "scatter",
         "x": [
          2007
         ],
         "xaxis": "x",
         "y": [
          2.8400597907324365
         ],
         "yaxis": "y"
        },
        {
         "hovertemplate": "<b>%{hovertext}</b><br><br>Station Name=East Falls Church<br>Avg Daily Entries=%{x}<br>percentage=%{y}<extra></extra>",
         "hovertext": [
          "East Falls Church"
         ],
         "legendgroup": "East Falls Church",
         "marker": {
          "color": "#ab63fa",
          "symbol": "circle"
         },
         "mode": "markers",
         "name": "East Falls Church",
         "orientation": "v",
         "showlegend": true,
         "type": "scatter",
         "x": [
          2397
         ],
         "xaxis": "x",
         "y": [
          2.3779724655819776
         ],
         "yaxis": "y"
        },
        {
         "hovertemplate": "<b>%{hovertext}</b><br><br>Station Name=Court House<br>Avg Daily Entries=%{x}<br>percentage=%{y}<extra></extra>",
         "hovertext": [
          "Court House"
         ],
         "legendgroup": "Court House",
         "marker": {
          "color": "#FFA15A",
          "symbol": "circle"
         },
         "mode": "markers",
         "name": "Court House",
         "orientation": "v",
         "showlegend": true,
         "type": "scatter",
         "x": [
          3571
         ],
         "xaxis": "x",
         "y": [
          1.5401848221786614
         ],
         "yaxis": "y"
        },
        {
         "hovertemplate": "<b>%{hovertext}</b><br><br>Station Name=Cheverly<br>Avg Daily Entries=%{x}<br>percentage=%{y}<extra></extra>",
         "hovertext": [
          "Cheverly"
         ],
         "legendgroup": "Cheverly",
         "marker": {
          "color": "#19d3f3",
          "symbol": "circle"
         },
         "mode": "markers",
         "name": "Cheverly",
         "orientation": "v",
         "showlegend": true,
         "type": "scatter",
         "x": [
          507
         ],
         "xaxis": "x",
         "y": [
          10.256410256410255
         ],
         "yaxis": "y"
        },
        {
         "hovertemplate": "<b>%{hovertext}</b><br><br>Station Name=Federal Center SW<br>Avg Daily Entries=%{x}<br>percentage=%{y}<extra></extra>",
         "hovertext": [
          "Federal Center SW"
         ],
         "legendgroup": "Federal Center SW",
         "marker": {
          "color": "#FF6692",
          "symbol": "circle"
         },
         "mode": "markers",
         "name": "Federal Center SW",
         "orientation": "v",
         "showlegend": true,
         "type": "scatter",
         "x": [
          2153
         ],
         "xaxis": "x",
         "y": [
          2.3223409196470044
         ],
         "yaxis": "y"
        },
        {
         "hovertemplate": "<b>%{hovertext}</b><br><br>Station Name=Ashburn<br>Avg Daily Entries=%{x}<br>percentage=%{y}<extra></extra>",
         "hovertext": [
          "Ashburn"
         ],
         "legendgroup": "Ashburn",
         "marker": {
          "color": "#B6E880",
          "symbol": "circle"
         },
         "mode": "markers",
         "name": "Ashburn",
         "orientation": "v",
         "showlegend": true,
         "type": "scatter",
         "x": [
          1258
         ],
         "xaxis": "x",
         "y": [
          3.6565977742448332
         ],
         "yaxis": "y"
        },
        {
         "hovertemplate": "<b>%{hovertext}</b><br><br>Station Name=McLean<br>Avg Daily Entries=%{x}<br>percentage=%{y}<extra></extra>",
         "hovertext": [
          "McLean"
         ],
         "legendgroup": "McLean",
         "marker": {
          "color": "#FF97FF",
          "symbol": "circle"
         },
         "mode": "markers",
         "name": "McLean",
         "orientation": "v",
         "showlegend": true,
         "type": "scatter",
         "x": [
          1614
         ],
         "xaxis": "x",
         "y": [
          2.7881040892193307
         ],
         "yaxis": "y"
        },
        {
         "hovertemplate": "<b>%{hovertext}</b><br><br>Station Name=Eisenhower Ave<br>Avg Daily Entries=%{x}<br>percentage=%{y}<extra></extra>",
         "hovertext": [
          "Eisenhower Ave"
         ],
         "legendgroup": "Eisenhower Ave",
         "marker": {
          "color": "#FECB52",
          "symbol": "circle"
         },
         "mode": "markers",
         "name": "Eisenhower Ave",
         "orientation": "v",
         "showlegend": true,
         "type": "scatter",
         "x": [
          1220
         ],
         "xaxis": "x",
         "y": [
          3.606557377049181
         ],
         "yaxis": "y"
        },
        {
         "hovertemplate": "<b>%{hovertext}</b><br><br>Station Name=Greensboro<br>Avg Daily Entries=%{x}<br>percentage=%{y}<extra></extra>",
         "hovertext": [
          "Greensboro"
         ],
         "legendgroup": "Greensboro",
         "marker": {
          "color": "#636efa",
          "symbol": "circle"
         },
         "mode": "markers",
         "name": "Greensboro",
         "orientation": "v",
         "showlegend": true,
         "type": "scatter",
         "x": [
          892
         ],
         "xaxis": "x",
         "y": [
          4.708520179372197
         ],
         "yaxis": "y"
        },
        {
         "hovertemplate": "<b>%{hovertext}</b><br><br>Station Name=Reston Town Center<br>Avg Daily Entries=%{x}<br>percentage=%{y}<extra></extra>",
         "hovertext": [
          "Reston Town Center"
         ],
         "legendgroup": "Reston Town Center",
         "marker": {
          "color": "#EF553B",
          "symbol": "circle"
         },
         "mode": "markers",
         "name": "Reston Town Center",
         "orientation": "v",
         "showlegend": true,
         "type": "scatter",
         "x": [
          828
         ],
         "xaxis": "x",
         "y": [
          4.5893719806763285
         ],
         "yaxis": "y"
        },
        {
         "hovertemplate": "<b>%{hovertext}</b><br><br>Station Name=Arlington Cemetery<br>Avg Daily Entries=%{x}<br>percentage=%{y}<extra></extra>",
         "hovertext": [
          "Arlington Cemetery"
         ],
         "legendgroup": "Arlington Cemetery",
         "marker": {
          "color": "#00cc96",
          "symbol": "circle"
         },
         "mode": "markers",
         "name": "Arlington Cemetery",
         "orientation": "v",
         "showlegend": true,
         "type": "scatter",
         "x": [
          1039
         ],
         "xaxis": "x",
         "y": [
          3.6573628488931664
         ],
         "yaxis": "y"
        },
        {
         "hovertemplate": "<b>%{hovertext}</b><br><br>Station Name=Spring Hill<br>Avg Daily Entries=%{x}<br>percentage=%{y}<extra></extra>",
         "hovertext": [
          "Spring Hill"
         ],
         "legendgroup": "Spring Hill",
         "marker": {
          "color": "#ab63fa",
          "symbol": "circle"
         },
         "mode": "markers",
         "name": "Spring Hill",
         "orientation": "v",
         "showlegend": true,
         "type": "scatter",
         "x": [
          644
         ],
         "xaxis": "x",
         "y": [
          5.745341614906832
         ],
         "yaxis": "y"
        },
        {
         "hovertemplate": "<b>%{hovertext}</b><br><br>Station Name=Innovation Center<br>Avg Daily Entries=%{x}<br>percentage=%{y}<extra></extra>",
         "hovertext": [
          "Innovation Center"
         ],
         "legendgroup": "Innovation Center",
         "marker": {
          "color": "#FFA15A",
          "symbol": "circle"
         },
         "mode": "markers",
         "name": "Innovation Center",
         "orientation": "v",
         "showlegend": true,
         "type": "scatter",
         "x": [
          826
         ],
         "xaxis": "x",
         "y": [
          3.9951573849878934
         ],
         "yaxis": "y"
        },
        {
         "hovertemplate": "<b>%{hovertext}</b><br><br>Station Name=Herndon<br>Avg Daily Entries=%{x}<br>percentage=%{y}<extra></extra>",
         "hovertext": [
          "Herndon"
         ],
         "legendgroup": "Herndon",
         "marker": {
          "color": "#19d3f3",
          "symbol": "circle"
         },
         "mode": "markers",
         "name": "Herndon",
         "orientation": "v",
         "showlegend": true,
         "type": "scatter",
         "x": [
          856
         ],
         "xaxis": "x",
         "y": [
          3.0373831775700935
         ],
         "yaxis": "y"
        },
        {
         "hovertemplate": "<b>%{hovertext}</b><br><br>Station Name=West Falls Church<br>Avg Daily Entries=%{x}<br>percentage=%{y}<extra></extra>",
         "hovertext": [
          "West Falls Church"
         ],
         "legendgroup": "West Falls Church",
         "marker": {
          "color": "#FF6692",
          "symbol": "circle"
         },
         "mode": "markers",
         "name": "West Falls Church",
         "orientation": "v",
         "showlegend": true,
         "type": "scatter",
         "x": [
          1050
         ],
         "xaxis": "x",
         "y": [
          2.1904761904761907
         ],
         "yaxis": "y"
        },
        {
         "hovertemplate": "<b>%{hovertext}</b><br><br>Station Name=Loudoun Gateway<br>Avg Daily Entries=%{x}<br>percentage=%{y}<extra></extra>",
         "hovertext": [
          "Loudoun Gateway"
         ],
         "legendgroup": "Loudoun Gateway",
         "marker": {
          "color": "#B6E880",
          "symbol": "circle"
         },
         "mode": "markers",
         "name": "Loudoun Gateway",
         "orientation": "v",
         "showlegend": true,
         "type": "scatter",
         "x": [
          268
         ],
         "xaxis": "x",
         "y": [
          4.104477611940299
         ],
         "yaxis": "y"
        }
       ],
       "layout": {
        "legend": {
         "title": {
          "text": "Station Name"
         },
         "tracegroupgap": 0
        },
        "margin": {
         "t": 60
        },
        "template": {
         "data": {
          "bar": [
           {
            "error_x": {
             "color": "#2a3f5f"
            },
            "error_y": {
             "color": "#2a3f5f"
            },
            "marker": {
             "line": {
              "color": "#E5ECF6",
              "width": 0.5
             },
             "pattern": {
              "fillmode": "overlay",
              "size": 10,
              "solidity": 0.2
             }
            },
            "type": "bar"
           }
          ],
          "barpolar": [
           {
            "marker": {
             "line": {
              "color": "#E5ECF6",
              "width": 0.5
             },
             "pattern": {
              "fillmode": "overlay",
              "size": 10,
              "solidity": 0.2
             }
            },
            "type": "barpolar"
           }
          ],
          "carpet": [
           {
            "aaxis": {
             "endlinecolor": "#2a3f5f",
             "gridcolor": "white",
             "linecolor": "white",
             "minorgridcolor": "white",
             "startlinecolor": "#2a3f5f"
            },
            "baxis": {
             "endlinecolor": "#2a3f5f",
             "gridcolor": "white",
             "linecolor": "white",
             "minorgridcolor": "white",
             "startlinecolor": "#2a3f5f"
            },
            "type": "carpet"
           }
          ],
          "choropleth": [
           {
            "colorbar": {
             "outlinewidth": 0,
             "ticks": ""
            },
            "type": "choropleth"
           }
          ],
          "contour": [
           {
            "colorbar": {
             "outlinewidth": 0,
             "ticks": ""
            },
            "colorscale": [
             [
              0,
              "#0d0887"
             ],
             [
              0.1111111111111111,
              "#46039f"
             ],
             [
              0.2222222222222222,
              "#7201a8"
             ],
             [
              0.3333333333333333,
              "#9c179e"
             ],
             [
              0.4444444444444444,
              "#bd3786"
             ],
             [
              0.5555555555555556,
              "#d8576b"
             ],
             [
              0.6666666666666666,
              "#ed7953"
             ],
             [
              0.7777777777777778,
              "#fb9f3a"
             ],
             [
              0.8888888888888888,
              "#fdca26"
             ],
             [
              1,
              "#f0f921"
             ]
            ],
            "type": "contour"
           }
          ],
          "contourcarpet": [
           {
            "colorbar": {
             "outlinewidth": 0,
             "ticks": ""
            },
            "type": "contourcarpet"
           }
          ],
          "heatmap": [
           {
            "colorbar": {
             "outlinewidth": 0,
             "ticks": ""
            },
            "colorscale": [
             [
              0,
              "#0d0887"
             ],
             [
              0.1111111111111111,
              "#46039f"
             ],
             [
              0.2222222222222222,
              "#7201a8"
             ],
             [
              0.3333333333333333,
              "#9c179e"
             ],
             [
              0.4444444444444444,
              "#bd3786"
             ],
             [
              0.5555555555555556,
              "#d8576b"
             ],
             [
              0.6666666666666666,
              "#ed7953"
             ],
             [
              0.7777777777777778,
              "#fb9f3a"
             ],
             [
              0.8888888888888888,
              "#fdca26"
             ],
             [
              1,
              "#f0f921"
             ]
            ],
            "type": "heatmap"
           }
          ],
          "heatmapgl": [
           {
            "colorbar": {
             "outlinewidth": 0,
             "ticks": ""
            },
            "colorscale": [
             [
              0,
              "#0d0887"
             ],
             [
              0.1111111111111111,
              "#46039f"
             ],
             [
              0.2222222222222222,
              "#7201a8"
             ],
             [
              0.3333333333333333,
              "#9c179e"
             ],
             [
              0.4444444444444444,
              "#bd3786"
             ],
             [
              0.5555555555555556,
              "#d8576b"
             ],
             [
              0.6666666666666666,
              "#ed7953"
             ],
             [
              0.7777777777777778,
              "#fb9f3a"
             ],
             [
              0.8888888888888888,
              "#fdca26"
             ],
             [
              1,
              "#f0f921"
             ]
            ],
            "type": "heatmapgl"
           }
          ],
          "histogram": [
           {
            "marker": {
             "pattern": {
              "fillmode": "overlay",
              "size": 10,
              "solidity": 0.2
             }
            },
            "type": "histogram"
           }
          ],
          "histogram2d": [
           {
            "colorbar": {
             "outlinewidth": 0,
             "ticks": ""
            },
            "colorscale": [
             [
              0,
              "#0d0887"
             ],
             [
              0.1111111111111111,
              "#46039f"
             ],
             [
              0.2222222222222222,
              "#7201a8"
             ],
             [
              0.3333333333333333,
              "#9c179e"
             ],
             [
              0.4444444444444444,
              "#bd3786"
             ],
             [
              0.5555555555555556,
              "#d8576b"
             ],
             [
              0.6666666666666666,
              "#ed7953"
             ],
             [
              0.7777777777777778,
              "#fb9f3a"
             ],
             [
              0.8888888888888888,
              "#fdca26"
             ],
             [
              1,
              "#f0f921"
             ]
            ],
            "type": "histogram2d"
           }
          ],
          "histogram2dcontour": [
           {
            "colorbar": {
             "outlinewidth": 0,
             "ticks": ""
            },
            "colorscale": [
             [
              0,
              "#0d0887"
             ],
             [
              0.1111111111111111,
              "#46039f"
             ],
             [
              0.2222222222222222,
              "#7201a8"
             ],
             [
              0.3333333333333333,
              "#9c179e"
             ],
             [
              0.4444444444444444,
              "#bd3786"
             ],
             [
              0.5555555555555556,
              "#d8576b"
             ],
             [
              0.6666666666666666,
              "#ed7953"
             ],
             [
              0.7777777777777778,
              "#fb9f3a"
             ],
             [
              0.8888888888888888,
              "#fdca26"
             ],
             [
              1,
              "#f0f921"
             ]
            ],
            "type": "histogram2dcontour"
           }
          ],
          "mesh3d": [
           {
            "colorbar": {
             "outlinewidth": 0,
             "ticks": ""
            },
            "type": "mesh3d"
           }
          ],
          "parcoords": [
           {
            "line": {
             "colorbar": {
              "outlinewidth": 0,
              "ticks": ""
             }
            },
            "type": "parcoords"
           }
          ],
          "pie": [
           {
            "automargin": true,
            "type": "pie"
           }
          ],
          "scatter": [
           {
            "fillpattern": {
             "fillmode": "overlay",
             "size": 10,
             "solidity": 0.2
            },
            "type": "scatter"
           }
          ],
          "scatter3d": [
           {
            "line": {
             "colorbar": {
              "outlinewidth": 0,
              "ticks": ""
             }
            },
            "marker": {
             "colorbar": {
              "outlinewidth": 0,
              "ticks": ""
             }
            },
            "type": "scatter3d"
           }
          ],
          "scattercarpet": [
           {
            "marker": {
             "colorbar": {
              "outlinewidth": 0,
              "ticks": ""
             }
            },
            "type": "scattercarpet"
           }
          ],
          "scattergeo": [
           {
            "marker": {
             "colorbar": {
              "outlinewidth": 0,
              "ticks": ""
             }
            },
            "type": "scattergeo"
           }
          ],
          "scattergl": [
           {
            "marker": {
             "colorbar": {
              "outlinewidth": 0,
              "ticks": ""
             }
            },
            "type": "scattergl"
           }
          ],
          "scattermapbox": [
           {
            "marker": {
             "colorbar": {
              "outlinewidth": 0,
              "ticks": ""
             }
            },
            "type": "scattermapbox"
           }
          ],
          "scatterpolar": [
           {
            "marker": {
             "colorbar": {
              "outlinewidth": 0,
              "ticks": ""
             }
            },
            "type": "scatterpolar"
           }
          ],
          "scatterpolargl": [
           {
            "marker": {
             "colorbar": {
              "outlinewidth": 0,
              "ticks": ""
             }
            },
            "type": "scatterpolargl"
           }
          ],
          "scatterternary": [
           {
            "marker": {
             "colorbar": {
              "outlinewidth": 0,
              "ticks": ""
             }
            },
            "type": "scatterternary"
           }
          ],
          "surface": [
           {
            "colorbar": {
             "outlinewidth": 0,
             "ticks": ""
            },
            "colorscale": [
             [
              0,
              "#0d0887"
             ],
             [
              0.1111111111111111,
              "#46039f"
             ],
             [
              0.2222222222222222,
              "#7201a8"
             ],
             [
              0.3333333333333333,
              "#9c179e"
             ],
             [
              0.4444444444444444,
              "#bd3786"
             ],
             [
              0.5555555555555556,
              "#d8576b"
             ],
             [
              0.6666666666666666,
              "#ed7953"
             ],
             [
              0.7777777777777778,
              "#fb9f3a"
             ],
             [
              0.8888888888888888,
              "#fdca26"
             ],
             [
              1,
              "#f0f921"
             ]
            ],
            "type": "surface"
           }
          ],
          "table": [
           {
            "cells": {
             "fill": {
              "color": "#EBF0F8"
             },
             "line": {
              "color": "white"
             }
            },
            "header": {
             "fill": {
              "color": "#C8D4E3"
             },
             "line": {
              "color": "white"
             }
            },
            "type": "table"
           }
          ]
         },
         "layout": {
          "annotationdefaults": {
           "arrowcolor": "#2a3f5f",
           "arrowhead": 0,
           "arrowwidth": 1
          },
          "autotypenumbers": "strict",
          "coloraxis": {
           "colorbar": {
            "outlinewidth": 0,
            "ticks": ""
           }
          },
          "colorscale": {
           "diverging": [
            [
             0,
             "#8e0152"
            ],
            [
             0.1,
             "#c51b7d"
            ],
            [
             0.2,
             "#de77ae"
            ],
            [
             0.3,
             "#f1b6da"
            ],
            [
             0.4,
             "#fde0ef"
            ],
            [
             0.5,
             "#f7f7f7"
            ],
            [
             0.6,
             "#e6f5d0"
            ],
            [
             0.7,
             "#b8e186"
            ],
            [
             0.8,
             "#7fbc41"
            ],
            [
             0.9,
             "#4d9221"
            ],
            [
             1,
             "#276419"
            ]
           ],
           "sequential": [
            [
             0,
             "#0d0887"
            ],
            [
             0.1111111111111111,
             "#46039f"
            ],
            [
             0.2222222222222222,
             "#7201a8"
            ],
            [
             0.3333333333333333,
             "#9c179e"
            ],
            [
             0.4444444444444444,
             "#bd3786"
            ],
            [
             0.5555555555555556,
             "#d8576b"
            ],
            [
             0.6666666666666666,
             "#ed7953"
            ],
            [
             0.7777777777777778,
             "#fb9f3a"
            ],
            [
             0.8888888888888888,
             "#fdca26"
            ],
            [
             1,
             "#f0f921"
            ]
           ],
           "sequentialminus": [
            [
             0,
             "#0d0887"
            ],
            [
             0.1111111111111111,
             "#46039f"
            ],
            [
             0.2222222222222222,
             "#7201a8"
            ],
            [
             0.3333333333333333,
             "#9c179e"
            ],
            [
             0.4444444444444444,
             "#bd3786"
            ],
            [
             0.5555555555555556,
             "#d8576b"
            ],
            [
             0.6666666666666666,
             "#ed7953"
            ],
            [
             0.7777777777777778,
             "#fb9f3a"
            ],
            [
             0.8888888888888888,
             "#fdca26"
            ],
            [
             1,
             "#f0f921"
            ]
           ]
          },
          "colorway": [
           "#636efa",
           "#EF553B",
           "#00cc96",
           "#ab63fa",
           "#FFA15A",
           "#19d3f3",
           "#FF6692",
           "#B6E880",
           "#FF97FF",
           "#FECB52"
          ],
          "font": {
           "color": "#2a3f5f"
          },
          "geo": {
           "bgcolor": "white",
           "lakecolor": "white",
           "landcolor": "#E5ECF6",
           "showlakes": true,
           "showland": true,
           "subunitcolor": "white"
          },
          "hoverlabel": {
           "align": "left"
          },
          "hovermode": "closest",
          "mapbox": {
           "style": "light"
          },
          "paper_bgcolor": "white",
          "plot_bgcolor": "#E5ECF6",
          "polar": {
           "angularaxis": {
            "gridcolor": "white",
            "linecolor": "white",
            "ticks": ""
           },
           "bgcolor": "#E5ECF6",
           "radialaxis": {
            "gridcolor": "white",
            "linecolor": "white",
            "ticks": ""
           }
          },
          "scene": {
           "xaxis": {
            "backgroundcolor": "#E5ECF6",
            "gridcolor": "white",
            "gridwidth": 2,
            "linecolor": "white",
            "showbackground": true,
            "ticks": "",
            "zerolinecolor": "white"
           },
           "yaxis": {
            "backgroundcolor": "#E5ECF6",
            "gridcolor": "white",
            "gridwidth": 2,
            "linecolor": "white",
            "showbackground": true,
            "ticks": "",
            "zerolinecolor": "white"
           },
           "zaxis": {
            "backgroundcolor": "#E5ECF6",
            "gridcolor": "white",
            "gridwidth": 2,
            "linecolor": "white",
            "showbackground": true,
            "ticks": "",
            "zerolinecolor": "white"
           }
          },
          "shapedefaults": {
           "line": {
            "color": "#2a3f5f"
           }
          },
          "ternary": {
           "aaxis": {
            "gridcolor": "white",
            "linecolor": "white",
            "ticks": ""
           },
           "baxis": {
            "gridcolor": "white",
            "linecolor": "white",
            "ticks": ""
           },
           "bgcolor": "#E5ECF6",
           "caxis": {
            "gridcolor": "white",
            "linecolor": "white",
            "ticks": ""
           }
          },
          "title": {
           "x": 0.05
          },
          "xaxis": {
           "automargin": true,
           "gridcolor": "white",
           "linecolor": "white",
           "ticks": "",
           "title": {
            "standoff": 15
           },
           "zerolinecolor": "white",
           "zerolinewidth": 2
          },
          "yaxis": {
           "automargin": true,
           "gridcolor": "white",
           "linecolor": "white",
           "ticks": "",
           "title": {
            "standoff": 15
           },
           "zerolinecolor": "white",
           "zerolinewidth": 2
          }
         }
        },
        "xaxis": {
         "anchor": "y",
         "domain": [
          0,
          1
         ],
         "title": {
          "text": "Daily Entries"
         }
        },
        "yaxis": {
         "anchor": "x",
         "domain": [
          0,
          1
         ],
         "title": {
          "text": "Percentage"
         }
        }
       }
      },
      "text/html": [
       "<div>                            <div id=\"e65fa7f4-b285-45e5-8399-ccfe898f29ff\" class=\"plotly-graph-div\" style=\"height:525px; width:100%;\"></div>            <script type=\"text/javascript\">                require([\"plotly\"], function(Plotly) {                    window.PLOTLYENV=window.PLOTLYENV || {};                                    if (document.getElementById(\"e65fa7f4-b285-45e5-8399-ccfe898f29ff\")) {                    Plotly.newPlot(                        \"e65fa7f4-b285-45e5-8399-ccfe898f29ff\",                        [{\"hovertemplate\":\"\\u003cb\\u003e%{hovertext}\\u003c\\u002fb\\u003e\\u003cbr\\u003e\\u003cbr\\u003eStation Name=Ronald Reagan Washington National Airport\\u003cbr\\u003eAvg Daily Entries=%{x}\\u003cbr\\u003epercentage=%{y}\\u003cextra\\u003e\\u003c\\u002fextra\\u003e\",\"hovertext\":[\"Ronald Reagan Washington National Airport\"],\"legendgroup\":\"Ronald Reagan Washington National Airport\",\"marker\":{\"color\":\"#636efa\",\"symbol\":\"circle\"},\"mode\":\"markers\",\"name\":\"Ronald Reagan Washington National Airport\",\"orientation\":\"v\",\"showlegend\":true,\"x\":[5720],\"xaxis\":\"x\",\"y\":[9.982517482517482],\"yaxis\":\"y\",\"type\":\"scatter\"},{\"hovertemplate\":\"\\u003cb\\u003e%{hovertext}\\u003c\\u002fb\\u003e\\u003cbr\\u003e\\u003cbr\\u003eStation Name=Union Station\\u003cbr\\u003eAvg Daily Entries=%{x}\\u003cbr\\u003epercentage=%{y}\\u003cextra\\u003e\\u003c\\u002fextra\\u003e\",\"hovertext\":[\"Union Station\"],\"legendgroup\":\"Union Station\",\"marker\":{\"color\":\"#EF553B\",\"symbol\":\"circle\"},\"mode\":\"markers\",\"name\":\"Union Station\",\"orientation\":\"v\",\"showlegend\":true,\"x\":[12716],\"xaxis\":\"x\",\"y\":[4.207297892419],\"yaxis\":\"y\",\"type\":\"scatter\"},{\"hovertemplate\":\"\\u003cb\\u003e%{hovertext}\\u003c\\u002fb\\u003e\\u003cbr\\u003e\\u003cbr\\u003eStation Name=Columbia Heights\\u003cbr\\u003eAvg Daily Entries=%{x}\\u003cbr\\u003epercentage=%{y}\\u003cextra\\u003e\\u003c\\u002fextra\\u003e\",\"hovertext\":[\"Columbia Heights\"],\"legendgroup\":\"Columbia Heights\",\"marker\":{\"color\":\"#00cc96\",\"symbol\":\"circle\"},\"mode\":\"markers\",\"name\":\"Columbia Heights\",\"orientation\":\"v\",\"showlegend\":true,\"x\":[7742],\"xaxis\":\"x\",\"y\":[6.78119349005425],\"yaxis\":\"y\",\"type\":\"scatter\"},{\"hovertemplate\":\"\\u003cb\\u003e%{hovertext}\\u003c\\u002fb\\u003e\\u003cbr\\u003e\\u003cbr\\u003eStation Name=Gallery Place\\u003cbr\\u003eAvg Daily Entries=%{x}\\u003cbr\\u003epercentage=%{y}\\u003cextra\\u003e\\u003c\\u002fextra\\u003e\",\"hovertext\":[\"Gallery Place\"],\"legendgroup\":\"Gallery Place\",\"marker\":{\"color\":\"#ab63fa\",\"symbol\":\"circle\"},\"mode\":\"markers\",\"name\":\"Gallery Place\",\"orientation\":\"v\",\"showlegend\":true,\"x\":[12509],\"xaxis\":\"x\",\"y\":[3.0538012630905746],\"yaxis\":\"y\",\"type\":\"scatter\"},{\"hovertemplate\":\"\\u003cb\\u003e%{hovertext}\\u003c\\u002fb\\u003e\\u003cbr\\u003e\\u003cbr\\u003eStation Name=Foggy Bottom-GWU\\u003cbr\\u003eAvg Daily Entries=%{x}\\u003cbr\\u003epercentage=%{y}\\u003cextra\\u003e\\u003c\\u002fextra\\u003e\",\"hovertext\":[\"Foggy Bottom-GWU\"],\"legendgroup\":\"Foggy Bottom-GWU\",\"marker\":{\"color\":\"#FFA15A\",\"symbol\":\"circle\"},\"mode\":\"markers\",\"name\":\"Foggy Bottom-GWU\",\"orientation\":\"v\",\"showlegend\":true,\"x\":[12219],\"xaxis\":\"x\",\"y\":[3.0280710369097306],\"yaxis\":\"y\",\"type\":\"scatter\"},{\"hovertemplate\":\"\\u003cb\\u003e%{hovertext}\\u003c\\u002fb\\u003e\\u003cbr\\u003e\\u003cbr\\u003eStation Name=Dulles Airport\\u003cbr\\u003eAvg Daily Entries=%{x}\\u003cbr\\u003epercentage=%{y}\\u003cextra\\u003e\\u003c\\u002fextra\\u003e\",\"hovertext\":[\"Dulles Airport\"],\"legendgroup\":\"Dulles Airport\",\"marker\":{\"color\":\"#19d3f3\",\"symbol\":\"circle\"},\"mode\":\"markers\",\"name\":\"Dulles Airport\",\"orientation\":\"v\",\"showlegend\":true,\"x\":[2328],\"xaxis\":\"x\",\"y\":[15.077319587628866],\"yaxis\":\"y\",\"type\":\"scatter\"},{\"hovertemplate\":\"\\u003cb\\u003e%{hovertext}\\u003c\\u002fb\\u003e\\u003cbr\\u003e\\u003cbr\\u003eStation Name=Fort Totten\\u003cbr\\u003eAvg Daily Entries=%{x}\\u003cbr\\u003epercentage=%{y}\\u003cextra\\u003e\\u003c\\u002fextra\\u003e\",\"hovertext\":[\"Fort Totten\"],\"legendgroup\":\"Fort Totten\",\"marker\":{\"color\":\"#FF6692\",\"symbol\":\"circle\"},\"mode\":\"markers\",\"name\":\"Fort Totten\",\"orientation\":\"v\",\"showlegend\":true,\"x\":[6577],\"xaxis\":\"x\",\"y\":[5.032689676144138],\"yaxis\":\"y\",\"type\":\"scatter\"},{\"hovertemplate\":\"\\u003cb\\u003e%{hovertext}\\u003c\\u002fb\\u003e\\u003cbr\\u003e\\u003cbr\\u003eStation Name=Dupont Circle\\u003cbr\\u003eAvg Daily Entries=%{x}\\u003cbr\\u003epercentage=%{y}\\u003cextra\\u003e\\u003c\\u002fextra\\u003e\",\"hovertext\":[\"Dupont Circle\"],\"legendgroup\":\"Dupont Circle\",\"marker\":{\"color\":\"#B6E880\",\"symbol\":\"circle\"},\"mode\":\"markers\",\"name\":\"Dupont Circle\",\"orientation\":\"v\",\"showlegend\":true,\"x\":[9957],\"xaxis\":\"x\",\"y\":[3.1836898664256306],\"yaxis\":\"y\",\"type\":\"scatter\"},{\"hovertemplate\":\"\\u003cb\\u003e%{hovertext}\\u003c\\u002fb\\u003e\\u003cbr\\u003e\\u003cbr\\u003eStation Name=Rhode Island Ave\\u003cbr\\u003eAvg Daily Entries=%{x}\\u003cbr\\u003epercentage=%{y}\\u003cextra\\u003e\\u003c\\u002fextra\\u003e\",\"hovertext\":[\"Rhode Island Ave\"],\"legendgroup\":\"Rhode Island Ave\",\"marker\":{\"color\":\"#FF97FF\",\"symbol\":\"circle\"},\"mode\":\"markers\",\"name\":\"Rhode Island Ave\",\"orientation\":\"v\",\"showlegend\":true,\"x\":[4116],\"xaxis\":\"x\",\"y\":[7.628765792031097],\"yaxis\":\"y\",\"type\":\"scatter\"},{\"hovertemplate\":\"\\u003cb\\u003e%{hovertext}\\u003c\\u002fb\\u003e\\u003cbr\\u003e\\u003cbr\\u003eStation Name=NoMa-Gallaudet U\\u003cbr\\u003eAvg Daily Entries=%{x}\\u003cbr\\u003epercentage=%{y}\\u003cextra\\u003e\\u003c\\u002fextra\\u003e\",\"hovertext\":[\"NoMa-Gallaudet U\"],\"legendgroup\":\"NoMa-Gallaudet U\",\"marker\":{\"color\":\"#FECB52\",\"symbol\":\"circle\"},\"mode\":\"markers\",\"name\":\"NoMa-Gallaudet U\",\"orientation\":\"v\",\"showlegend\":true,\"x\":[9213],\"xaxis\":\"x\",\"y\":[3.408227504613047],\"yaxis\":\"y\",\"type\":\"scatter\"},{\"hovertemplate\":\"\\u003cb\\u003e%{hovertext}\\u003c\\u002fb\\u003e\\u003cbr\\u003e\\u003cbr\\u003eStation Name=Georgia Ave-Petworth\\u003cbr\\u003eAvg Daily Entries=%{x}\\u003cbr\\u003epercentage=%{y}\\u003cextra\\u003e\\u003c\\u002fextra\\u003e\",\"hovertext\":[\"Georgia Ave-Petworth\"],\"legendgroup\":\"Georgia Ave-Petworth\",\"marker\":{\"color\":\"#636efa\",\"symbol\":\"circle\"},\"mode\":\"markers\",\"name\":\"Georgia Ave-Petworth\",\"orientation\":\"v\",\"showlegend\":true,\"x\":[4063],\"xaxis\":\"x\",\"y\":[7.383706620723602],\"yaxis\":\"y\",\"type\":\"scatter\"},{\"hovertemplate\":\"\\u003cb\\u003e%{hovertext}\\u003c\\u002fb\\u003e\\u003cbr\\u003e\\u003cbr\\u003eStation Name=Anacostia\\u003cbr\\u003eAvg Daily Entries=%{x}\\u003cbr\\u003epercentage=%{y}\\u003cextra\\u003e\\u003c\\u002fextra\\u003e\",\"hovertext\":[\"Anacostia\"],\"legendgroup\":\"Anacostia\",\"marker\":{\"color\":\"#EF553B\",\"symbol\":\"circle\"},\"mode\":\"markers\",\"name\":\"Anacostia\",\"orientation\":\"v\",\"showlegend\":true,\"x\":[3504],\"xaxis\":\"x\",\"y\":[8.476027397260275],\"yaxis\":\"y\",\"type\":\"scatter\"},{\"hovertemplate\":\"\\u003cb\\u003e%{hovertext}\\u003c\\u002fb\\u003e\\u003cbr\\u003e\\u003cbr\\u003eStation Name=Shaw-Howard U\\u003cbr\\u003eAvg Daily Entries=%{x}\\u003cbr\\u003epercentage=%{y}\\u003cextra\\u003e\\u003c\\u002fextra\\u003e\",\"hovertext\":[\"Shaw-Howard U\"],\"legendgroup\":\"Shaw-Howard U\",\"marker\":{\"color\":\"#00cc96\",\"symbol\":\"circle\"},\"mode\":\"markers\",\"name\":\"Shaw-Howard U\",\"orientation\":\"v\",\"showlegend\":true,\"x\":[3233],\"xaxis\":\"x\",\"y\":[8.7534797401794],\"yaxis\":\"y\",\"type\":\"scatter\"},{\"hovertemplate\":\"\\u003cb\\u003e%{hovertext}\\u003c\\u002fb\\u003e\\u003cbr\\u003e\\u003cbr\\u003eStation Name=Hyattsville Crossing\\u003cbr\\u003eAvg Daily Entries=%{x}\\u003cbr\\u003epercentage=%{y}\\u003cextra\\u003e\\u003c\\u002fextra\\u003e\",\"hovertext\":[\"Hyattsville Crossing\"],\"legendgroup\":\"Hyattsville Crossing\",\"marker\":{\"color\":\"#ab63fa\",\"symbol\":\"circle\"},\"mode\":\"markers\",\"name\":\"Hyattsville Crossing\",\"orientation\":\"v\",\"showlegend\":true,\"x\":[2862],\"xaxis\":\"x\",\"y\":[9.818308874912649],\"yaxis\":\"y\",\"type\":\"scatter\"},{\"hovertemplate\":\"\\u003cb\\u003e%{hovertext}\\u003c\\u002fb\\u003e\\u003cbr\\u003e\\u003cbr\\u003eStation Name=Navy Yard-Ballpark\\u003cbr\\u003eAvg Daily Entries=%{x}\\u003cbr\\u003epercentage=%{y}\\u003cextra\\u003e\\u003c\\u002fextra\\u003e\",\"hovertext\":[\"Navy Yard-Ballpark\"],\"legendgroup\":\"Navy Yard-Ballpark\",\"marker\":{\"color\":\"#FFA15A\",\"symbol\":\"circle\"},\"mode\":\"markers\",\"name\":\"Navy Yard-Ballpark\",\"orientation\":\"v\",\"showlegend\":true,\"x\":[8424],\"xaxis\":\"x\",\"y\":[3.2644824311490974],\"yaxis\":\"y\",\"type\":\"scatter\"},{\"hovertemplate\":\"\\u003cb\\u003e%{hovertext}\\u003c\\u002fb\\u003e\\u003cbr\\u003e\\u003cbr\\u003eStation Name=Metro Center\\u003cbr\\u003eAvg Daily Entries=%{x}\\u003cbr\\u003epercentage=%{y}\\u003cextra\\u003e\\u003c\\u002fextra\\u003e\",\"hovertext\":[\"Metro Center\"],\"legendgroup\":\"Metro Center\",\"marker\":{\"color\":\"#19d3f3\",\"symbol\":\"circle\"},\"mode\":\"markers\",\"name\":\"Metro Center\",\"orientation\":\"v\",\"showlegend\":true,\"x\":[11981],\"xaxis\":\"x\",\"y\":[2.2285285034638176],\"yaxis\":\"y\",\"type\":\"scatter\"},{\"hovertemplate\":\"\\u003cb\\u003e%{hovertext}\\u003c\\u002fb\\u003e\\u003cbr\\u003e\\u003cbr\\u003eStation Name=L'Enfant Plaza\\u003cbr\\u003eAvg Daily Entries=%{x}\\u003cbr\\u003epercentage=%{y}\\u003cextra\\u003e\\u003c\\u002fextra\\u003e\",\"hovertext\":[\"L'Enfant Plaza\"],\"legendgroup\":\"L'Enfant Plaza\",\"marker\":{\"color\":\"#FF6692\",\"symbol\":\"circle\"},\"mode\":\"markers\",\"name\":\"L'Enfant Plaza\",\"orientation\":\"v\",\"showlegend\":true,\"x\":[9171],\"xaxis\":\"x\",\"y\":[2.867735252426126],\"yaxis\":\"y\",\"type\":\"scatter\"},{\"hovertemplate\":\"\\u003cb\\u003e%{hovertext}\\u003c\\u002fb\\u003e\\u003cbr\\u003e\\u003cbr\\u003eStation Name=U Street\\u003cbr\\u003eAvg Daily Entries=%{x}\\u003cbr\\u003epercentage=%{y}\\u003cextra\\u003e\\u003c\\u002fextra\\u003e\",\"hovertext\":[\"U Street\"],\"legendgroup\":\"U Street\",\"marker\":{\"color\":\"#B6E880\",\"symbol\":\"circle\"},\"mode\":\"markers\",\"name\":\"U Street\",\"orientation\":\"v\",\"showlegend\":true,\"x\":[4776],\"xaxis\":\"x\",\"y\":[5.318257956448911],\"yaxis\":\"y\",\"type\":\"scatter\"},{\"hovertemplate\":\"\\u003cb\\u003e%{hovertext}\\u003c\\u002fb\\u003e\\u003cbr\\u003e\\u003cbr\\u003eStation Name=Greenbelt\\u003cbr\\u003eAvg Daily Entries=%{x}\\u003cbr\\u003epercentage=%{y}\\u003cextra\\u003e\\u003c\\u002fextra\\u003e\",\"hovertext\":[\"Greenbelt\"],\"legendgroup\":\"Greenbelt\",\"marker\":{\"color\":\"#FF97FF\",\"symbol\":\"circle\"},\"mode\":\"markers\",\"name\":\"Greenbelt\",\"orientation\":\"v\",\"showlegend\":true,\"x\":[2947],\"xaxis\":\"x\",\"y\":[8.31353919239905],\"yaxis\":\"y\",\"type\":\"scatter\"},{\"hovertemplate\":\"\\u003cb\\u003e%{hovertext}\\u003c\\u002fb\\u003e\\u003cbr\\u003e\\u003cbr\\u003eStation Name=Brookland-CUA\\u003cbr\\u003eAvg Daily Entries=%{x}\\u003cbr\\u003epercentage=%{y}\\u003cextra\\u003e\\u003c\\u002fextra\\u003e\",\"hovertext\":[\"Brookland-CUA\"],\"legendgroup\":\"Brookland-CUA\",\"marker\":{\"color\":\"#FECB52\",\"symbol\":\"circle\"},\"mode\":\"markers\",\"name\":\"Brookland-CUA\",\"orientation\":\"v\",\"showlegend\":true,\"x\":[3820],\"xaxis\":\"x\",\"y\":[6.30890052356021],\"yaxis\":\"y\",\"type\":\"scatter\"},{\"hovertemplate\":\"\\u003cb\\u003e%{hovertext}\\u003c\\u002fb\\u003e\\u003cbr\\u003e\\u003cbr\\u003eStation Name=Takoma\\u003cbr\\u003eAvg Daily Entries=%{x}\\u003cbr\\u003epercentage=%{y}\\u003cextra\\u003e\\u003c\\u002fextra\\u003e\",\"hovertext\":[\"Takoma\"],\"legendgroup\":\"Takoma\",\"marker\":{\"color\":\"#636efa\",\"symbol\":\"circle\"},\"mode\":\"markers\",\"name\":\"Takoma\",\"orientation\":\"v\",\"showlegend\":true,\"x\":[3085],\"xaxis\":\"x\",\"y\":[7.811993517017828],\"yaxis\":\"y\",\"type\":\"scatter\"},{\"hovertemplate\":\"\\u003cb\\u003e%{hovertext}\\u003c\\u002fb\\u003e\\u003cbr\\u003e\\u003cbr\\u003eStation Name=McPherson Sq\\u003cbr\\u003eAvg Daily Entries=%{x}\\u003cbr\\u003epercentage=%{y}\\u003cextra\\u003e\\u003c\\u002fextra\\u003e\",\"hovertext\":[\"McPherson Sq\"],\"legendgroup\":\"McPherson Sq\",\"marker\":{\"color\":\"#EF553B\",\"symbol\":\"circle\"},\"mode\":\"markers\",\"name\":\"McPherson Sq\",\"orientation\":\"v\",\"showlegend\":true,\"x\":[6243],\"xaxis\":\"x\",\"y\":[3.7802338619253564],\"yaxis\":\"y\",\"type\":\"scatter\"},{\"hovertemplate\":\"\\u003cb\\u003e%{hovertext}\\u003c\\u002fb\\u003e\\u003cbr\\u003e\\u003cbr\\u003eStation Name=Benning Road\\u003cbr\\u003eAvg Daily Entries=%{x}\\u003cbr\\u003epercentage=%{y}\\u003cextra\\u003e\\u003c\\u002fextra\\u003e\",\"hovertext\":[\"Benning Road\"],\"legendgroup\":\"Benning Road\",\"marker\":{\"color\":\"#00cc96\",\"symbol\":\"circle\"},\"mode\":\"markers\",\"name\":\"Benning Road\",\"orientation\":\"v\",\"showlegend\":true,\"x\":[1727],\"xaxis\":\"x\",\"y\":[13.54950781702374],\"yaxis\":\"y\",\"type\":\"scatter\"},{\"hovertemplate\":\"\\u003cb\\u003e%{hovertext}\\u003c\\u002fb\\u003e\\u003cbr\\u003e\\u003cbr\\u003eStation Name=Minnesota Ave\\u003cbr\\u003eAvg Daily Entries=%{x}\\u003cbr\\u003epercentage=%{y}\\u003cextra\\u003e\\u003c\\u002fextra\\u003e\",\"hovertext\":[\"Minnesota Ave\"],\"legendgroup\":\"Minnesota Ave\",\"marker\":{\"color\":\"#ab63fa\",\"symbol\":\"circle\"},\"mode\":\"markers\",\"name\":\"Minnesota Ave\",\"orientation\":\"v\",\"showlegend\":true,\"x\":[1490],\"xaxis\":\"x\",\"y\":[15.63758389261745],\"yaxis\":\"y\",\"type\":\"scatter\"},{\"hovertemplate\":\"\\u003cb\\u003e%{hovertext}\\u003c\\u002fb\\u003e\\u003cbr\\u003e\\u003cbr\\u003eStation Name=Shady Grove\\u003cbr\\u003eAvg Daily Entries=%{x}\\u003cbr\\u003epercentage=%{y}\\u003cextra\\u003e\\u003c\\u002fextra\\u003e\",\"hovertext\":[\"Shady Grove\"],\"legendgroup\":\"Shady Grove\",\"marker\":{\"color\":\"#FFA15A\",\"symbol\":\"circle\"},\"mode\":\"markers\",\"name\":\"Shady Grove\",\"orientation\":\"v\",\"showlegend\":true,\"x\":[5092],\"xaxis\":\"x\",\"y\":[4.556166535742341],\"yaxis\":\"y\",\"type\":\"scatter\"},{\"hovertemplate\":\"\\u003cb\\u003e%{hovertext}\\u003c\\u002fb\\u003e\\u003cbr\\u003e\\u003cbr\\u003eStation Name=Farragut North\\u003cbr\\u003eAvg Daily Entries=%{x}\\u003cbr\\u003epercentage=%{y}\\u003cextra\\u003e\\u003c\\u002fextra\\u003e\",\"hovertext\":[\"Farragut North\"],\"legendgroup\":\"Farragut North\",\"marker\":{\"color\":\"#19d3f3\",\"symbol\":\"circle\"},\"mode\":\"markers\",\"name\":\"Farragut North\",\"orientation\":\"v\",\"showlegend\":true,\"x\":[8793],\"xaxis\":\"x\",\"y\":[2.6270897304674174],\"yaxis\":\"y\",\"type\":\"scatter\"},{\"hovertemplate\":\"\\u003cb\\u003e%{hovertext}\\u003c\\u002fb\\u003e\\u003cbr\\u003e\\u003cbr\\u003eStation Name=Silver Spring\\u003cbr\\u003eAvg Daily Entries=%{x}\\u003cbr\\u003epercentage=%{y}\\u003cextra\\u003e\\u003c\\u002fextra\\u003e\",\"hovertext\":[\"Silver Spring\"],\"legendgroup\":\"Silver Spring\",\"marker\":{\"color\":\"#FF6692\",\"symbol\":\"circle\"},\"mode\":\"markers\",\"name\":\"Silver Spring\",\"orientation\":\"v\",\"showlegend\":true,\"x\":[3988],\"xaxis\":\"x\",\"y\":[5.591775325977934],\"yaxis\":\"y\",\"type\":\"scatter\"},{\"hovertemplate\":\"\\u003cb\\u003e%{hovertext}\\u003c\\u002fb\\u003e\\u003cbr\\u003e\\u003cbr\\u003eStation Name=Tenleytown-AU\\u003cbr\\u003eAvg Daily Entries=%{x}\\u003cbr\\u003epercentage=%{y}\\u003cextra\\u003e\\u003c\\u002fextra\\u003e\",\"hovertext\":[\"Tenleytown-AU\"],\"legendgroup\":\"Tenleytown-AU\",\"marker\":{\"color\":\"#B6E880\",\"symbol\":\"circle\"},\"mode\":\"markers\",\"name\":\"Tenleytown-AU\",\"orientation\":\"v\",\"showlegend\":true,\"x\":[3625],\"xaxis\":\"x\",\"y\":[6.041379310344828],\"yaxis\":\"y\",\"type\":\"scatter\"},{\"hovertemplate\":\"\\u003cb\\u003e%{hovertext}\\u003c\\u002fb\\u003e\\u003cbr\\u003e\\u003cbr\\u003eStation Name=Waterfront\\u003cbr\\u003eAvg Daily Entries=%{x}\\u003cbr\\u003epercentage=%{y}\\u003cextra\\u003e\\u003c\\u002fextra\\u003e\",\"hovertext\":[\"Waterfront\"],\"legendgroup\":\"Waterfront\",\"marker\":{\"color\":\"#FF97FF\",\"symbol\":\"circle\"},\"mode\":\"markers\",\"name\":\"Waterfront\",\"orientation\":\"v\",\"showlegend\":true,\"x\":[3468],\"xaxis\":\"x\",\"y\":[6.141868512110726],\"yaxis\":\"y\",\"type\":\"scatter\"},{\"hovertemplate\":\"\\u003cb\\u003e%{hovertext}\\u003c\\u002fb\\u003e\\u003cbr\\u003e\\u003cbr\\u003eStation Name=Pentagon City\\u003cbr\\u003eAvg Daily Entries=%{x}\\u003cbr\\u003epercentage=%{y}\\u003cextra\\u003e\\u003c\\u002fextra\\u003e\",\"hovertext\":[\"Pentagon City\"],\"legendgroup\":\"Pentagon City\",\"marker\":{\"color\":\"#FECB52\",\"symbol\":\"circle\"},\"mode\":\"markers\",\"name\":\"Pentagon City\",\"orientation\":\"v\",\"showlegend\":true,\"x\":[7356],\"xaxis\":\"x\",\"y\":[2.895595432300163],\"yaxis\":\"y\",\"type\":\"scatter\"},{\"hovertemplate\":\"\\u003cb\\u003e%{hovertext}\\u003c\\u002fb\\u003e\\u003cbr\\u003e\\u003cbr\\u003eStation Name=Stadium-Armory\\u003cbr\\u003eAvg Daily Entries=%{x}\\u003cbr\\u003epercentage=%{y}\\u003cextra\\u003e\\u003c\\u002fextra\\u003e\",\"hovertext\":[\"Stadium-Armory\"],\"legendgroup\":\"Stadium-Armory\",\"marker\":{\"color\":\"#636efa\",\"symbol\":\"circle\"},\"mode\":\"markers\",\"name\":\"Stadium-Armory\",\"orientation\":\"v\",\"showlegend\":true,\"x\":[1828],\"xaxis\":\"x\",\"y\":[11.652078774617069],\"yaxis\":\"y\",\"type\":\"scatter\"},{\"hovertemplate\":\"\\u003cb\\u003e%{hovertext}\\u003c\\u002fb\\u003e\\u003cbr\\u003e\\u003cbr\\u003eStation Name=Suitland\\u003cbr\\u003eAvg Daily Entries=%{x}\\u003cbr\\u003epercentage=%{y}\\u003cextra\\u003e\\u003c\\u002fextra\\u003e\",\"hovertext\":[\"Suitland\"],\"legendgroup\":\"Suitland\",\"marker\":{\"color\":\"#EF553B\",\"symbol\":\"circle\"},\"mode\":\"markers\",\"name\":\"Suitland\",\"orientation\":\"v\",\"showlegend\":true,\"x\":[2181],\"xaxis\":\"x\",\"y\":[9.720311783585512],\"yaxis\":\"y\",\"type\":\"scatter\"},{\"hovertemplate\":\"\\u003cb\\u003e%{hovertext}\\u003c\\u002fb\\u003e\\u003cbr\\u003e\\u003cbr\\u003eStation Name=Potomac Ave\\u003cbr\\u003eAvg Daily Entries=%{x}\\u003cbr\\u003epercentage=%{y}\\u003cextra\\u003e\\u003c\\u002fextra\\u003e\",\"hovertext\":[\"Potomac Ave\"],\"legendgroup\":\"Potomac Ave\",\"marker\":{\"color\":\"#00cc96\",\"symbol\":\"circle\"},\"mode\":\"markers\",\"name\":\"Potomac Ave\",\"orientation\":\"v\",\"showlegend\":true,\"x\":[2266],\"xaxis\":\"x\",\"y\":[9.179170344218889],\"yaxis\":\"y\",\"type\":\"scatter\"},{\"hovertemplate\":\"\\u003cb\\u003e%{hovertext}\\u003c\\u002fb\\u003e\\u003cbr\\u003e\\u003cbr\\u003eStation Name=Farragut West\\u003cbr\\u003eAvg Daily Entries=%{x}\\u003cbr\\u003epercentage=%{y}\\u003cextra\\u003e\\u003c\\u002fextra\\u003e\",\"hovertext\":[\"Farragut West\"],\"legendgroup\":\"Farragut West\",\"marker\":{\"color\":\"#ab63fa\",\"symbol\":\"circle\"},\"mode\":\"markers\",\"name\":\"Farragut West\",\"orientation\":\"v\",\"showlegend\":true,\"x\":[8021],\"xaxis\":\"x\",\"y\":[2.593192868719611],\"yaxis\":\"y\",\"type\":\"scatter\"},{\"hovertemplate\":\"\\u003cb\\u003e%{hovertext}\\u003c\\u002fb\\u003e\\u003cbr\\u003e\\u003cbr\\u003eStation Name=Rosslyn\\u003cbr\\u003eAvg Daily Entries=%{x}\\u003cbr\\u003epercentage=%{y}\\u003cextra\\u003e\\u003c\\u002fextra\\u003e\",\"hovertext\":[\"Rosslyn\"],\"legendgroup\":\"Rosslyn\",\"marker\":{\"color\":\"#FFA15A\",\"symbol\":\"circle\"},\"mode\":\"markers\",\"name\":\"Rosslyn\",\"orientation\":\"v\",\"showlegend\":true,\"x\":[6574],\"xaxis\":\"x\",\"y\":[3.1183449954365683],\"yaxis\":\"y\",\"type\":\"scatter\"},{\"hovertemplate\":\"\\u003cb\\u003e%{hovertext}\\u003c\\u002fb\\u003e\\u003cbr\\u003e\\u003cbr\\u003eStation Name=West Hyattsville\\u003cbr\\u003eAvg Daily Entries=%{x}\\u003cbr\\u003epercentage=%{y}\\u003cextra\\u003e\\u003c\\u002fextra\\u003e\",\"hovertext\":[\"West Hyattsville\"],\"legendgroup\":\"West Hyattsville\",\"marker\":{\"color\":\"#19d3f3\",\"symbol\":\"circle\"},\"mode\":\"markers\",\"name\":\"West Hyattsville\",\"orientation\":\"v\",\"showlegend\":true,\"x\":[2291],\"xaxis\":\"x\",\"y\":[8.94805761676124],\"yaxis\":\"y\",\"type\":\"scatter\"},{\"hovertemplate\":\"\\u003cb\\u003e%{hovertext}\\u003c\\u002fb\\u003e\\u003cbr\\u003e\\u003cbr\\u003eStation Name=Eastern Market\\u003cbr\\u003eAvg Daily Entries=%{x}\\u003cbr\\u003epercentage=%{y}\\u003cextra\\u003e\\u003c\\u002fextra\\u003e\",\"hovertext\":[\"Eastern Market\"],\"legendgroup\":\"Eastern Market\",\"marker\":{\"color\":\"#FF6692\",\"symbol\":\"circle\"},\"mode\":\"markers\",\"name\":\"Eastern Market\",\"orientation\":\"v\",\"showlegend\":true,\"x\":[3729],\"xaxis\":\"x\",\"y\":[5.443818718155001],\"yaxis\":\"y\",\"type\":\"scatter\"},{\"hovertemplate\":\"\\u003cb\\u003e%{hovertext}\\u003c\\u002fb\\u003e\\u003cbr\\u003e\\u003cbr\\u003eStation Name=Archives\\u003cbr\\u003eAvg Daily Entries=%{x}\\u003cbr\\u003epercentage=%{y}\\u003cextra\\u003e\\u003c\\u002fextra\\u003e\",\"hovertext\":[\"Archives\"],\"legendgroup\":\"Archives\",\"marker\":{\"color\":\"#B6E880\",\"symbol\":\"circle\"},\"mode\":\"markers\",\"name\":\"Archives\",\"orientation\":\"v\",\"showlegend\":true,\"x\":[4569],\"xaxis\":\"x\",\"y\":[4.377325454147516],\"yaxis\":\"y\",\"type\":\"scatter\"},{\"hovertemplate\":\"\\u003cb\\u003e%{hovertext}\\u003c\\u002fb\\u003e\\u003cbr\\u003e\\u003cbr\\u003eStation Name=Naylor Road\\u003cbr\\u003eAvg Daily Entries=%{x}\\u003cbr\\u003epercentage=%{y}\\u003cextra\\u003e\\u003c\\u002fextra\\u003e\",\"hovertext\":[\"Naylor Road\"],\"legendgroup\":\"Naylor Road\",\"marker\":{\"color\":\"#FF97FF\",\"symbol\":\"circle\"},\"mode\":\"markers\",\"name\":\"Naylor Road\",\"orientation\":\"v\",\"showlegend\":true,\"x\":[1219],\"xaxis\":\"x\",\"y\":[15.996718621821165],\"yaxis\":\"y\",\"type\":\"scatter\"},{\"hovertemplate\":\"\\u003cb\\u003e%{hovertext}\\u003c\\u002fb\\u003e\\u003cbr\\u003e\\u003cbr\\u003eStation Name=King St-Old Town\\u003cbr\\u003eAvg Daily Entries=%{x}\\u003cbr\\u003epercentage=%{y}\\u003cextra\\u003e\\u003c\\u002fextra\\u003e\",\"hovertext\":[\"King St-Old Town\"],\"legendgroup\":\"King St-Old Town\",\"marker\":{\"color\":\"#FECB52\",\"symbol\":\"circle\"},\"mode\":\"markers\",\"name\":\"King St-Old Town\",\"orientation\":\"v\",\"showlegend\":true,\"x\":[3773],\"xaxis\":\"x\",\"y\":[4.982772329711105],\"yaxis\":\"y\",\"type\":\"scatter\"},{\"hovertemplate\":\"\\u003cb\\u003e%{hovertext}\\u003c\\u002fb\\u003e\\u003cbr\\u003e\\u003cbr\\u003eStation Name=New Carrollton\\u003cbr\\u003eAvg Daily Entries=%{x}\\u003cbr\\u003epercentage=%{y}\\u003cextra\\u003e\\u003c\\u002fextra\\u003e\",\"hovertext\":[\"New Carrollton\"],\"legendgroup\":\"New Carrollton\",\"marker\":{\"color\":\"#636efa\",\"symbol\":\"circle\"},\"mode\":\"markers\",\"name\":\"New Carrollton\",\"orientation\":\"v\",\"showlegend\":true,\"x\":[2897],\"xaxis\":\"x\",\"y\":[6.4204349326889885],\"yaxis\":\"y\",\"type\":\"scatter\"},{\"hovertemplate\":\"\\u003cb\\u003e%{hovertext}\\u003c\\u002fb\\u003e\\u003cbr\\u003e\\u003cbr\\u003eStation Name=Deanwood\\u003cbr\\u003eAvg Daily Entries=%{x}\\u003cbr\\u003epercentage=%{y}\\u003cextra\\u003e\\u003c\\u002fextra\\u003e\",\"hovertext\":[\"Deanwood\"],\"legendgroup\":\"Deanwood\",\"marker\":{\"color\":\"#EF553B\",\"symbol\":\"circle\"},\"mode\":\"markers\",\"name\":\"Deanwood\",\"orientation\":\"v\",\"showlegend\":true,\"x\":[972],\"xaxis\":\"x\",\"y\":[19.1358024691358],\"yaxis\":\"y\",\"type\":\"scatter\"},{\"hovertemplate\":\"\\u003cb\\u003e%{hovertext}\\u003c\\u002fb\\u003e\\u003cbr\\u003e\\u003cbr\\u003eStation Name=Smithsonian\\u003cbr\\u003eAvg Daily Entries=%{x}\\u003cbr\\u003epercentage=%{y}\\u003cextra\\u003e\\u003c\\u002fextra\\u003e\",\"hovertext\":[\"Smithsonian\"],\"legendgroup\":\"Smithsonian\",\"marker\":{\"color\":\"#00cc96\",\"symbol\":\"circle\"},\"mode\":\"markers\",\"name\":\"Smithsonian\",\"orientation\":\"v\",\"showlegend\":true,\"x\":[5463],\"xaxis\":\"x\",\"y\":[3.3498077979132344],\"yaxis\":\"y\",\"type\":\"scatter\"},{\"hovertemplate\":\"\\u003cb\\u003e%{hovertext}\\u003c\\u002fb\\u003e\\u003cbr\\u003e\\u003cbr\\u003eStation Name=Branch Ave\\u003cbr\\u003eAvg Daily Entries=%{x}\\u003cbr\\u003epercentage=%{y}\\u003cextra\\u003e\\u003c\\u002fextra\\u003e\",\"hovertext\":[\"Branch Ave\"],\"legendgroup\":\"Branch Ave\",\"marker\":{\"color\":\"#ab63fa\",\"symbol\":\"circle\"},\"mode\":\"markers\",\"name\":\"Branch Ave\",\"orientation\":\"v\",\"showlegend\":true,\"x\":[2238],\"xaxis\":\"x\",\"y\":[8.176943699731904],\"yaxis\":\"y\",\"type\":\"scatter\"},{\"hovertemplate\":\"\\u003cb\\u003e%{hovertext}\\u003c\\u002fb\\u003e\\u003cbr\\u003e\\u003cbr\\u003eStation Name=Capitol Heights\\u003cbr\\u003eAvg Daily Entries=%{x}\\u003cbr\\u003epercentage=%{y}\\u003cextra\\u003e\\u003c\\u002fextra\\u003e\",\"hovertext\":[\"Capitol Heights\"],\"legendgroup\":\"Capitol Heights\",\"marker\":{\"color\":\"#FFA15A\",\"symbol\":\"circle\"},\"mode\":\"markers\",\"name\":\"Capitol Heights\",\"orientation\":\"v\",\"showlegend\":true,\"x\":[1212],\"xaxis\":\"x\",\"y\":[14.603960396039604],\"yaxis\":\"y\",\"type\":\"scatter\"},{\"hovertemplate\":\"\\u003cb\\u003e%{hovertext}\\u003c\\u002fb\\u003e\\u003cbr\\u003e\\u003cbr\\u003eStation Name=Friendship Heights\\u003cbr\\u003eAvg Daily Entries=%{x}\\u003cbr\\u003epercentage=%{y}\\u003cextra\\u003e\\u003c\\u002fextra\\u003e\",\"hovertext\":[\"Friendship Heights\"],\"legendgroup\":\"Friendship Heights\",\"marker\":{\"color\":\"#19d3f3\",\"symbol\":\"circle\"},\"mode\":\"markers\",\"name\":\"Friendship Heights\",\"orientation\":\"v\",\"showlegend\":true,\"x\":[3597],\"xaxis\":\"x\",\"y\":[4.865165415624132],\"yaxis\":\"y\",\"type\":\"scatter\"},{\"hovertemplate\":\"\\u003cb\\u003e%{hovertext}\\u003c\\u002fb\\u003e\\u003cbr\\u003e\\u003cbr\\u003eStation Name=Southern Ave\\u003cbr\\u003eAvg Daily Entries=%{x}\\u003cbr\\u003epercentage=%{y}\\u003cextra\\u003e\\u003c\\u002fextra\\u003e\",\"hovertext\":[\"Southern Ave\"],\"legendgroup\":\"Southern Ave\",\"marker\":{\"color\":\"#FF6692\",\"symbol\":\"circle\"},\"mode\":\"markers\",\"name\":\"Southern Ave\",\"orientation\":\"v\",\"showlegend\":true,\"x\":[2285],\"xaxis\":\"x\",\"y\":[7.527352297592997],\"yaxis\":\"y\",\"type\":\"scatter\"},{\"hovertemplate\":\"\\u003cb\\u003e%{hovertext}\\u003c\\u002fb\\u003e\\u003cbr\\u003e\\u003cbr\\u003eStation Name=Ballston-MU\\u003cbr\\u003eAvg Daily Entries=%{x}\\u003cbr\\u003epercentage=%{y}\\u003cextra\\u003e\\u003c\\u002fextra\\u003e\",\"hovertext\":[\"Ballston-MU\"],\"legendgroup\":\"Ballston-MU\",\"marker\":{\"color\":\"#B6E880\",\"symbol\":\"circle\"},\"mode\":\"markers\",\"name\":\"Ballston-MU\",\"orientation\":\"v\",\"showlegend\":true,\"x\":[5201],\"xaxis\":\"x\",\"y\":[3.2493751201691983],\"yaxis\":\"y\",\"type\":\"scatter\"},{\"hovertemplate\":\"\\u003cb\\u003e%{hovertext}\\u003c\\u002fb\\u003e\\u003cbr\\u003e\\u003cbr\\u003eStation Name=Woodley Park\\u003cbr\\u003eAvg Daily Entries=%{x}\\u003cbr\\u003epercentage=%{y}\\u003cextra\\u003e\\u003c\\u002fextra\\u003e\",\"hovertext\":[\"Woodley Park\"],\"legendgroup\":\"Woodley Park\",\"marker\":{\"color\":\"#FF97FF\",\"symbol\":\"circle\"},\"mode\":\"markers\",\"name\":\"Woodley Park\",\"orientation\":\"v\",\"showlegend\":true,\"x\":[3722],\"xaxis\":\"x\",\"y\":[4.379365932294466],\"yaxis\":\"y\",\"type\":\"scatter\"},{\"hovertemplate\":\"\\u003cb\\u003e%{hovertext}\\u003c\\u002fb\\u003e\\u003cbr\\u003e\\u003cbr\\u003eStation Name=Downtown Largo\\u003cbr\\u003eAvg Daily Entries=%{x}\\u003cbr\\u003epercentage=%{y}\\u003cextra\\u003e\\u003c\\u002fextra\\u003e\",\"hovertext\":[\"Downtown Largo\"],\"legendgroup\":\"Downtown Largo\",\"marker\":{\"color\":\"#FECB52\",\"symbol\":\"circle\"},\"mode\":\"markers\",\"name\":\"Downtown Largo\",\"orientation\":\"v\",\"showlegend\":true,\"x\":[1935],\"xaxis\":\"x\",\"y\":[8.113695090439277],\"yaxis\":\"y\",\"type\":\"scatter\"},{\"hovertemplate\":\"\\u003cb\\u003e%{hovertext}\\u003c\\u002fb\\u003e\\u003cbr\\u003e\\u003cbr\\u003eStation Name=Rockville\\u003cbr\\u003eAvg Daily Entries=%{x}\\u003cbr\\u003epercentage=%{y}\\u003cextra\\u003e\\u003c\\u002fextra\\u003e\",\"hovertext\":[\"Rockville\"],\"legendgroup\":\"Rockville\",\"marker\":{\"color\":\"#636efa\",\"symbol\":\"circle\"},\"mode\":\"markers\",\"name\":\"Rockville\",\"orientation\":\"v\",\"showlegend\":true,\"x\":[2152],\"xaxis\":\"x\",\"y\":[7.063197026022305],\"yaxis\":\"y\",\"type\":\"scatter\"},{\"hovertemplate\":\"\\u003cb\\u003e%{hovertext}\\u003c\\u002fb\\u003e\\u003cbr\\u003e\\u003cbr\\u003eStation Name=Huntington\\u003cbr\\u003eAvg Daily Entries=%{x}\\u003cbr\\u003epercentage=%{y}\\u003cextra\\u003e\\u003c\\u002fextra\\u003e\",\"hovertext\":[\"Huntington\"],\"legendgroup\":\"Huntington\",\"marker\":{\"color\":\"#EF553B\",\"symbol\":\"circle\"},\"mode\":\"markers\",\"name\":\"Huntington\",\"orientation\":\"v\",\"showlegend\":true,\"x\":[3139],\"xaxis\":\"x\",\"y\":[4.746734628862695],\"yaxis\":\"y\",\"type\":\"scatter\"},{\"hovertemplate\":\"\\u003cb\\u003e%{hovertext}\\u003c\\u002fb\\u003e\\u003cbr\\u003e\\u003cbr\\u003eStation Name=Mt Vernon Sq\\u003cbr\\u003eAvg Daily Entries=%{x}\\u003cbr\\u003epercentage=%{y}\\u003cextra\\u003e\\u003c\\u002fextra\\u003e\",\"hovertext\":[\"Mt Vernon Sq\"],\"legendgroup\":\"Mt Vernon Sq\",\"marker\":{\"color\":\"#00cc96\",\"symbol\":\"circle\"},\"mode\":\"markers\",\"name\":\"Mt Vernon Sq\",\"orientation\":\"v\",\"showlegend\":true,\"x\":[3675],\"xaxis\":\"x\",\"y\":[3.8639455782312924],\"yaxis\":\"y\",\"type\":\"scatter\"},{\"hovertemplate\":\"\\u003cb\\u003e%{hovertext}\\u003c\\u002fb\\u003e\\u003cbr\\u003e\\u003cbr\\u003eStation Name=Crystal City\\u003cbr\\u003eAvg Daily Entries=%{x}\\u003cbr\\u003epercentage=%{y}\\u003cextra\\u003e\\u003c\\u002fextra\\u003e\",\"hovertext\":[\"Crystal City\"],\"legendgroup\":\"Crystal City\",\"marker\":{\"color\":\"#ab63fa\",\"symbol\":\"circle\"},\"mode\":\"markers\",\"name\":\"Crystal City\",\"orientation\":\"v\",\"showlegend\":true,\"x\":[4725],\"xaxis\":\"x\",\"y\":[3.0052910052910056],\"yaxis\":\"y\",\"type\":\"scatter\"},{\"hovertemplate\":\"\\u003cb\\u003e%{hovertext}\\u003c\\u002fb\\u003e\\u003cbr\\u003e\\u003cbr\\u003eStation Name=Twinbrook\\u003cbr\\u003eAvg Daily Entries=%{x}\\u003cbr\\u003epercentage=%{y}\\u003cextra\\u003e\\u003c\\u002fextra\\u003e\",\"hovertext\":[\"Twinbrook\"],\"legendgroup\":\"Twinbrook\",\"marker\":{\"color\":\"#FFA15A\",\"symbol\":\"circle\"},\"mode\":\"markers\",\"name\":\"Twinbrook\",\"orientation\":\"v\",\"showlegend\":true,\"x\":[2139],\"xaxis\":\"x\",\"y\":[6.638616175783076],\"yaxis\":\"y\",\"type\":\"scatter\"},{\"hovertemplate\":\"\\u003cb\\u003e%{hovertext}\\u003c\\u002fb\\u003e\\u003cbr\\u003e\\u003cbr\\u003eStation Name=Van Ness-UDC\\u003cbr\\u003eAvg Daily Entries=%{x}\\u003cbr\\u003epercentage=%{y}\\u003cextra\\u003e\\u003c\\u002fextra\\u003e\",\"hovertext\":[\"Van Ness-UDC\"],\"legendgroup\":\"Van Ness-UDC\",\"marker\":{\"color\":\"#19d3f3\",\"symbol\":\"circle\"},\"mode\":\"markers\",\"name\":\"Van Ness-UDC\",\"orientation\":\"v\",\"showlegend\":true,\"x\":[3050],\"xaxis\":\"x\",\"y\":[4.557377049180328],\"yaxis\":\"y\",\"type\":\"scatter\"},{\"hovertemplate\":\"\\u003cb\\u003e%{hovertext}\\u003c\\u002fb\\u003e\\u003cbr\\u003e\\u003cbr\\u003eStation Name=Franconia-Springfield\\u003cbr\\u003eAvg Daily Entries=%{x}\\u003cbr\\u003epercentage=%{y}\\u003cextra\\u003e\\u003c\\u002fextra\\u003e\",\"hovertext\":[\"Franconia-Springfield\"],\"legendgroup\":\"Franconia-Springfield\",\"marker\":{\"color\":\"#FF6692\",\"symbol\":\"circle\"},\"mode\":\"markers\",\"name\":\"Franconia-Springfield\",\"orientation\":\"v\",\"showlegend\":true,\"x\":[2977],\"xaxis\":\"x\",\"y\":[4.601948270070541],\"yaxis\":\"y\",\"type\":\"scatter\"},{\"hovertemplate\":\"\\u003cb\\u003e%{hovertext}\\u003c\\u002fb\\u003e\\u003cbr\\u003e\\u003cbr\\u003eStation Name=College Park-U of Md\\u003cbr\\u003eAvg Daily Entries=%{x}\\u003cbr\\u003epercentage=%{y}\\u003cextra\\u003e\\u003c\\u002fextra\\u003e\",\"hovertext\":[\"College Park-U of Md\"],\"legendgroup\":\"College Park-U of Md\",\"marker\":{\"color\":\"#B6E880\",\"symbol\":\"circle\"},\"mode\":\"markers\",\"name\":\"College Park-U of Md\",\"orientation\":\"v\",\"showlegend\":true,\"x\":[2112],\"xaxis\":\"x\",\"y\":[6.4393939393939394],\"yaxis\":\"y\",\"type\":\"scatter\"},{\"hovertemplate\":\"\\u003cb\\u003e%{hovertext}\\u003c\\u002fb\\u003e\\u003cbr\\u003e\\u003cbr\\u003eStation Name=North Bethesda\\u003cbr\\u003eAvg Daily Entries=%{x}\\u003cbr\\u003epercentage=%{y}\\u003cextra\\u003e\\u003c\\u002fextra\\u003e\",\"hovertext\":[\"North Bethesda\"],\"legendgroup\":\"North Bethesda\",\"marker\":{\"color\":\"#FF97FF\",\"symbol\":\"circle\"},\"mode\":\"markers\",\"name\":\"North Bethesda\",\"orientation\":\"v\",\"showlegend\":true,\"x\":[1856],\"xaxis\":\"x\",\"y\":[7.273706896551724],\"yaxis\":\"y\",\"type\":\"scatter\"},{\"hovertemplate\":\"\\u003cb\\u003e%{hovertext}\\u003c\\u002fb\\u003e\\u003cbr\\u003e\\u003cbr\\u003eStation Name=Judiciary Square\\u003cbr\\u003eAvg Daily Entries=%{x}\\u003cbr\\u003epercentage=%{y}\\u003cextra\\u003e\\u003c\\u002fextra\\u003e\",\"hovertext\":[\"Judiciary Square\"],\"legendgroup\":\"Judiciary Square\",\"marker\":{\"color\":\"#FECB52\",\"symbol\":\"circle\"},\"mode\":\"markers\",\"name\":\"Judiciary Square\",\"orientation\":\"v\",\"showlegend\":true,\"x\":[3259],\"xaxis\":\"x\",\"y\":[3.8969008898435105],\"yaxis\":\"y\",\"type\":\"scatter\"},{\"hovertemplate\":\"\\u003cb\\u003e%{hovertext}\\u003c\\u002fb\\u003e\\u003cbr\\u003e\\u003cbr\\u003eStation Name=Federal Triangle\\u003cbr\\u003eAvg Daily Entries=%{x}\\u003cbr\\u003epercentage=%{y}\\u003cextra\\u003e\\u003c\\u002fextra\\u003e\",\"hovertext\":[\"Federal Triangle\"],\"legendgroup\":\"Federal Triangle\",\"marker\":{\"color\":\"#636efa\",\"symbol\":\"circle\"},\"mode\":\"markers\",\"name\":\"Federal Triangle\",\"orientation\":\"v\",\"showlegend\":true,\"x\":[3491],\"xaxis\":\"x\",\"y\":[3.4947006588370093],\"yaxis\":\"y\",\"type\":\"scatter\"},{\"hovertemplate\":\"\\u003cb\\u003e%{hovertext}\\u003c\\u002fb\\u003e\\u003cbr\\u003e\\u003cbr\\u003eStation Name=Morgan Boulevard\\u003cbr\\u003eAvg Daily Entries=%{x}\\u003cbr\\u003epercentage=%{y}\\u003cextra\\u003e\\u003c\\u002fextra\\u003e\",\"hovertext\":[\"Morgan Boulevard\"],\"legendgroup\":\"Morgan Boulevard\",\"marker\":{\"color\":\"#EF553B\",\"symbol\":\"circle\"},\"mode\":\"markers\",\"name\":\"Morgan Boulevard\",\"orientation\":\"v\",\"showlegend\":true,\"x\":[985],\"xaxis\":\"x\",\"y\":[11.6751269035533],\"yaxis\":\"y\",\"type\":\"scatter\"},{\"hovertemplate\":\"\\u003cb\\u003e%{hovertext}\\u003c\\u002fb\\u003e\\u003cbr\\u003e\\u003cbr\\u003eStation Name=Pentagon\\u003cbr\\u003eAvg Daily Entries=%{x}\\u003cbr\\u003epercentage=%{y}\\u003cextra\\u003e\\u003c\\u002fextra\\u003e\",\"hovertext\":[\"Pentagon\"],\"legendgroup\":\"Pentagon\",\"marker\":{\"color\":\"#00cc96\",\"symbol\":\"circle\"},\"mode\":\"markers\",\"name\":\"Pentagon\",\"orientation\":\"v\",\"showlegend\":true,\"x\":[6051],\"xaxis\":\"x\",\"y\":[1.8839861179970254],\"yaxis\":\"y\",\"type\":\"scatter\"},{\"hovertemplate\":\"\\u003cb\\u003e%{hovertext}\\u003c\\u002fb\\u003e\\u003cbr\\u003e\\u003cbr\\u003eStation Name=Cleveland Park\\u003cbr\\u003eAvg Daily Entries=%{x}\\u003cbr\\u003epercentage=%{y}\\u003cextra\\u003e\\u003c\\u002fextra\\u003e\",\"hovertext\":[\"Cleveland Park\"],\"legendgroup\":\"Cleveland Park\",\"marker\":{\"color\":\"#ab63fa\",\"symbol\":\"circle\"},\"mode\":\"markers\",\"name\":\"Cleveland Park\",\"orientation\":\"v\",\"showlegend\":true,\"x\":[2279],\"xaxis\":\"x\",\"y\":[4.738920579201404],\"yaxis\":\"y\",\"type\":\"scatter\"},{\"hovertemplate\":\"\\u003cb\\u003e%{hovertext}\\u003c\\u002fb\\u003e\\u003cbr\\u003e\\u003cbr\\u003eStation Name=Glenmont\\u003cbr\\u003eAvg Daily Entries=%{x}\\u003cbr\\u003epercentage=%{y}\\u003cextra\\u003e\\u003c\\u002fextra\\u003e\",\"hovertext\":[\"Glenmont\"],\"legendgroup\":\"Glenmont\",\"marker\":{\"color\":\"#FFA15A\",\"symbol\":\"circle\"},\"mode\":\"markers\",\"name\":\"Glenmont\",\"orientation\":\"v\",\"showlegend\":true,\"x\":[2043],\"xaxis\":\"x\",\"y\":[5.286343612334802],\"yaxis\":\"y\",\"type\":\"scatter\"},{\"hovertemplate\":\"\\u003cb\\u003e%{hovertext}\\u003c\\u002fb\\u003e\\u003cbr\\u003e\\u003cbr\\u003eStation Name=Landover\\u003cbr\\u003eAvg Daily Entries=%{x}\\u003cbr\\u003epercentage=%{y}\\u003cextra\\u003e\\u003c\\u002fextra\\u003e\",\"hovertext\":[\"Landover\"],\"legendgroup\":\"Landover\",\"marker\":{\"color\":\"#19d3f3\",\"symbol\":\"circle\"},\"mode\":\"markers\",\"name\":\"Landover\",\"orientation\":\"v\",\"showlegend\":true,\"x\":[844],\"xaxis\":\"x\",\"y\":[12.085308056872037],\"yaxis\":\"y\",\"type\":\"scatter\"},{\"hovertemplate\":\"\\u003cb\\u003e%{hovertext}\\u003c\\u002fb\\u003e\\u003cbr\\u003e\\u003cbr\\u003eStation Name=Bethesda\\u003cbr\\u003eAvg Daily Entries=%{x}\\u003cbr\\u003epercentage=%{y}\\u003cextra\\u003e\\u003c\\u002fextra\\u003e\",\"hovertext\":[\"Bethesda\"],\"legendgroup\":\"Bethesda\",\"marker\":{\"color\":\"#FF6692\",\"symbol\":\"circle\"},\"mode\":\"markers\",\"name\":\"Bethesda\",\"orientation\":\"v\",\"showlegend\":true,\"x\":[4448],\"xaxis\":\"x\",\"y\":[2.180755395683453],\"yaxis\":\"y\",\"type\":\"scatter\"},{\"hovertemplate\":\"\\u003cb\\u003e%{hovertext}\\u003c\\u002fb\\u003e\\u003cbr\\u003e\\u003cbr\\u003eStation Name=Capitol South\\u003cbr\\u003eAvg Daily Entries=%{x}\\u003cbr\\u003epercentage=%{y}\\u003cextra\\u003e\\u003c\\u002fextra\\u003e\",\"hovertext\":[\"Capitol South\"],\"legendgroup\":\"Capitol South\",\"marker\":{\"color\":\"#B6E880\",\"symbol\":\"circle\"},\"mode\":\"markers\",\"name\":\"Capitol South\",\"orientation\":\"v\",\"showlegend\":true,\"x\":[4176],\"xaxis\":\"x\",\"y\":[2.203065134099617],\"yaxis\":\"y\",\"type\":\"scatter\"},{\"hovertemplate\":\"\\u003cb\\u003e%{hovertext}\\u003c\\u002fb\\u003e\\u003cbr\\u003e\\u003cbr\\u003eStation Name=Braddock Road\\u003cbr\\u003eAvg Daily Entries=%{x}\\u003cbr\\u003epercentage=%{y}\\u003cextra\\u003e\\u003c\\u002fextra\\u003e\",\"hovertext\":[\"Braddock Road\"],\"legendgroup\":\"Braddock Road\",\"marker\":{\"color\":\"#FF97FF\",\"symbol\":\"circle\"},\"mode\":\"markers\",\"name\":\"Braddock Road\",\"orientation\":\"v\",\"showlegend\":true,\"x\":[2068],\"xaxis\":\"x\",\"y\":[4.4003868471953576],\"yaxis\":\"y\",\"type\":\"scatter\"},{\"hovertemplate\":\"\\u003cb\\u003e%{hovertext}\\u003c\\u002fb\\u003e\\u003cbr\\u003e\\u003cbr\\u003eStation Name=Forest Glen\\u003cbr\\u003eAvg Daily Entries=%{x}\\u003cbr\\u003epercentage=%{y}\\u003cextra\\u003e\\u003c\\u002fextra\\u003e\",\"hovertext\":[\"Forest Glen\"],\"legendgroup\":\"Forest Glen\",\"marker\":{\"color\":\"#FECB52\",\"symbol\":\"circle\"},\"mode\":\"markers\",\"name\":\"Forest Glen\",\"orientation\":\"v\",\"showlegend\":true,\"x\":[861],\"xaxis\":\"x\",\"y\":[10.452961672473867],\"yaxis\":\"y\",\"type\":\"scatter\"},{\"hovertemplate\":\"\\u003cb\\u003e%{hovertext}\\u003c\\u002fb\\u003e\\u003cbr\\u003e\\u003cbr\\u003eStation Name=Wheaton\\u003cbr\\u003eAvg Daily Entries=%{x}\\u003cbr\\u003epercentage=%{y}\\u003cextra\\u003e\\u003c\\u002fextra\\u003e\",\"hovertext\":[\"Wheaton\"],\"legendgroup\":\"Wheaton\",\"marker\":{\"color\":\"#636efa\",\"symbol\":\"circle\"},\"mode\":\"markers\",\"name\":\"Wheaton\",\"orientation\":\"v\",\"showlegend\":true,\"x\":[1419],\"xaxis\":\"x\",\"y\":[6.13107822410148],\"yaxis\":\"y\",\"type\":\"scatter\"},{\"hovertemplate\":\"\\u003cb\\u003e%{hovertext}\\u003c\\u002fb\\u003e\\u003cbr\\u003e\\u003cbr\\u003eStation Name=Medical Center\\u003cbr\\u003eAvg Daily Entries=%{x}\\u003cbr\\u003epercentage=%{y}\\u003cextra\\u003e\\u003c\\u002fextra\\u003e\",\"hovertext\":[\"Medical Center\"],\"legendgroup\":\"Medical Center\",\"marker\":{\"color\":\"#EF553B\",\"symbol\":\"circle\"},\"mode\":\"markers\",\"name\":\"Medical Center\",\"orientation\":\"v\",\"showlegend\":true,\"x\":[2470],\"xaxis\":\"x\",\"y\":[3.4008097165991904],\"yaxis\":\"y\",\"type\":\"scatter\"},{\"hovertemplate\":\"\\u003cb\\u003e%{hovertext}\\u003c\\u002fb\\u003e\\u003cbr\\u003e\\u003cbr\\u003eStation Name=Congress Heights\\u003cbr\\u003eAvg Daily Entries=%{x}\\u003cbr\\u003epercentage=%{y}\\u003cextra\\u003e\\u003c\\u002fextra\\u003e\",\"hovertext\":[\"Congress Heights\"],\"legendgroup\":\"Congress Heights\",\"marker\":{\"color\":\"#00cc96\",\"symbol\":\"circle\"},\"mode\":\"markers\",\"name\":\"Congress Heights\",\"orientation\":\"v\",\"showlegend\":true,\"x\":[1505],\"xaxis\":\"x\",\"y\":[5.4485049833887045],\"yaxis\":\"y\",\"type\":\"scatter\"},{\"hovertemplate\":\"\\u003cb\\u003e%{hovertext}\\u003c\\u002fb\\u003e\\u003cbr\\u003e\\u003cbr\\u003eStation Name=Potomac Yard\\u003cbr\\u003eAvg Daily Entries=%{x}\\u003cbr\\u003epercentage=%{y}\\u003cextra\\u003e\\u003c\\u002fextra\\u003e\",\"hovertext\":[\"Potomac Yard\"],\"legendgroup\":\"Potomac Yard\",\"marker\":{\"color\":\"#ab63fa\",\"symbol\":\"circle\"},\"mode\":\"markers\",\"name\":\"Potomac Yard\",\"orientation\":\"v\",\"showlegend\":true,\"x\":[1404],\"xaxis\":\"x\",\"y\":[5.698005698005698],\"yaxis\":\"y\",\"type\":\"scatter\"},{\"hovertemplate\":\"\\u003cb\\u003e%{hovertext}\\u003c\\u002fb\\u003e\\u003cbr\\u003e\\u003cbr\\u003eStation Name=Clarendon\\u003cbr\\u003eAvg Daily Entries=%{x}\\u003cbr\\u003epercentage=%{y}\\u003cextra\\u003e\\u003c\\u002fextra\\u003e\",\"hovertext\":[\"Clarendon\"],\"legendgroup\":\"Clarendon\",\"marker\":{\"color\":\"#FFA15A\",\"symbol\":\"circle\"},\"mode\":\"markers\",\"name\":\"Clarendon\",\"orientation\":\"v\",\"showlegend\":true,\"x\":[2837],\"xaxis\":\"x\",\"y\":[2.784631653154741],\"yaxis\":\"y\",\"type\":\"scatter\"},{\"hovertemplate\":\"\\u003cb\\u003e%{hovertext}\\u003c\\u002fb\\u003e\\u003cbr\\u003e\\u003cbr\\u003eStation Name=Van Dorn Street\\u003cbr\\u003eAvg Daily Entries=%{x}\\u003cbr\\u003epercentage=%{y}\\u003cextra\\u003e\\u003c\\u002fextra\\u003e\",\"hovertext\":[\"Van Dorn Street\"],\"legendgroup\":\"Van Dorn Street\",\"marker\":{\"color\":\"#19d3f3\",\"symbol\":\"circle\"},\"mode\":\"markers\",\"name\":\"Van Dorn Street\",\"orientation\":\"v\",\"showlegend\":true,\"x\":[1323],\"xaxis\":\"x\",\"y\":[5.971277399848828],\"yaxis\":\"y\",\"type\":\"scatter\"},{\"hovertemplate\":\"\\u003cb\\u003e%{hovertext}\\u003c\\u002fb\\u003e\\u003cbr\\u003e\\u003cbr\\u003eStation Name=Dunn Loring\\u003cbr\\u003eAvg Daily Entries=%{x}\\u003cbr\\u003epercentage=%{y}\\u003cextra\\u003e\\u003c\\u002fextra\\u003e\",\"hovertext\":[\"Dunn Loring\"],\"legendgroup\":\"Dunn Loring\",\"marker\":{\"color\":\"#FF6692\",\"symbol\":\"circle\"},\"mode\":\"markers\",\"name\":\"Dunn Loring\",\"orientation\":\"v\",\"showlegend\":true,\"x\":[1582],\"xaxis\":\"x\",\"y\":[4.740834386852086],\"yaxis\":\"y\",\"type\":\"scatter\"},{\"hovertemplate\":\"\\u003cb\\u003e%{hovertext}\\u003c\\u002fb\\u003e\\u003cbr\\u003e\\u003cbr\\u003eStation Name=Tysons\\u003cbr\\u003eAvg Daily Entries=%{x}\\u003cbr\\u003epercentage=%{y}\\u003cextra\\u003e\\u003c\\u002fextra\\u003e\",\"hovertext\":[\"Tysons\"],\"legendgroup\":\"Tysons\",\"marker\":{\"color\":\"#B6E880\",\"symbol\":\"circle\"},\"mode\":\"markers\",\"name\":\"Tysons\",\"orientation\":\"v\",\"showlegend\":true,\"x\":[2126],\"xaxis\":\"x\",\"y\":[3.339604891815616],\"yaxis\":\"y\",\"type\":\"scatter\"},{\"hovertemplate\":\"\\u003cb\\u003e%{hovertext}\\u003c\\u002fb\\u003e\\u003cbr\\u003e\\u003cbr\\u003eStation Name=Vienna\\u003cbr\\u003eAvg Daily Entries=%{x}\\u003cbr\\u003epercentage=%{y}\\u003cextra\\u003e\\u003c\\u002fextra\\u003e\",\"hovertext\":[\"Vienna\"],\"legendgroup\":\"Vienna\",\"marker\":{\"color\":\"#FF97FF\",\"symbol\":\"circle\"},\"mode\":\"markers\",\"name\":\"Vienna\",\"orientation\":\"v\",\"showlegend\":true,\"x\":[3520],\"xaxis\":\"x\",\"y\":[1.875],\"yaxis\":\"y\",\"type\":\"scatter\"},{\"hovertemplate\":\"\\u003cb\\u003e%{hovertext}\\u003c\\u002fb\\u003e\\u003cbr\\u003e\\u003cbr\\u003eStation Name=Addison Road\\u003cbr\\u003eAvg Daily Entries=%{x}\\u003cbr\\u003epercentage=%{y}\\u003cextra\\u003e\\u003c\\u002fextra\\u003e\",\"hovertext\":[\"Addison Road\"],\"legendgroup\":\"Addison Road\",\"marker\":{\"color\":\"#FECB52\",\"symbol\":\"circle\"},\"mode\":\"markers\",\"name\":\"Addison Road\",\"orientation\":\"v\",\"showlegend\":true,\"x\":[1348],\"xaxis\":\"x\",\"y\":[4.673590504451038],\"yaxis\":\"y\",\"type\":\"scatter\"},{\"hovertemplate\":\"\\u003cb\\u003e%{hovertext}\\u003c\\u002fb\\u003e\\u003cbr\\u003e\\u003cbr\\u003eStation Name=Grosvenor-Strathmore\\u003cbr\\u003eAvg Daily Entries=%{x}\\u003cbr\\u003epercentage=%{y}\\u003cextra\\u003e\\u003c\\u002fextra\\u003e\",\"hovertext\":[\"Grosvenor-Strathmore\"],\"legendgroup\":\"Grosvenor-Strathmore\",\"marker\":{\"color\":\"#636efa\",\"symbol\":\"circle\"},\"mode\":\"markers\",\"name\":\"Grosvenor-Strathmore\",\"orientation\":\"v\",\"showlegend\":true,\"x\":[2262],\"xaxis\":\"x\",\"y\":[2.7851458885941645],\"yaxis\":\"y\",\"type\":\"scatter\"},{\"hovertemplate\":\"\\u003cb\\u003e%{hovertext}\\u003c\\u002fb\\u003e\\u003cbr\\u003e\\u003cbr\\u003eStation Name=Wiehle-Reston East\\u003cbr\\u003eAvg Daily Entries=%{x}\\u003cbr\\u003epercentage=%{y}\\u003cextra\\u003e\\u003c\\u002fextra\\u003e\",\"hovertext\":[\"Wiehle-Reston East\"],\"legendgroup\":\"Wiehle-Reston East\",\"marker\":{\"color\":\"#EF553B\",\"symbol\":\"circle\"},\"mode\":\"markers\",\"name\":\"Wiehle-Reston East\",\"orientation\":\"v\",\"showlegend\":true,\"x\":[1478],\"xaxis\":\"x\",\"y\":[3.924221921515562],\"yaxis\":\"y\",\"type\":\"scatter\"},{\"hovertemplate\":\"\\u003cb\\u003e%{hovertext}\\u003c\\u002fb\\u003e\\u003cbr\\u003e\\u003cbr\\u003eStation Name=Virginia Sq-GMU\\u003cbr\\u003eAvg Daily Entries=%{x}\\u003cbr\\u003epercentage=%{y}\\u003cextra\\u003e\\u003c\\u002fextra\\u003e\",\"hovertext\":[\"Virginia Sq-GMU\"],\"legendgroup\":\"Virginia Sq-GMU\",\"marker\":{\"color\":\"#00cc96\",\"symbol\":\"circle\"},\"mode\":\"markers\",\"name\":\"Virginia Sq-GMU\",\"orientation\":\"v\",\"showlegend\":true,\"x\":[2007],\"xaxis\":\"x\",\"y\":[2.8400597907324365],\"yaxis\":\"y\",\"type\":\"scatter\"},{\"hovertemplate\":\"\\u003cb\\u003e%{hovertext}\\u003c\\u002fb\\u003e\\u003cbr\\u003e\\u003cbr\\u003eStation Name=East Falls Church\\u003cbr\\u003eAvg Daily Entries=%{x}\\u003cbr\\u003epercentage=%{y}\\u003cextra\\u003e\\u003c\\u002fextra\\u003e\",\"hovertext\":[\"East Falls Church\"],\"legendgroup\":\"East Falls Church\",\"marker\":{\"color\":\"#ab63fa\",\"symbol\":\"circle\"},\"mode\":\"markers\",\"name\":\"East Falls Church\",\"orientation\":\"v\",\"showlegend\":true,\"x\":[2397],\"xaxis\":\"x\",\"y\":[2.3779724655819776],\"yaxis\":\"y\",\"type\":\"scatter\"},{\"hovertemplate\":\"\\u003cb\\u003e%{hovertext}\\u003c\\u002fb\\u003e\\u003cbr\\u003e\\u003cbr\\u003eStation Name=Court House\\u003cbr\\u003eAvg Daily Entries=%{x}\\u003cbr\\u003epercentage=%{y}\\u003cextra\\u003e\\u003c\\u002fextra\\u003e\",\"hovertext\":[\"Court House\"],\"legendgroup\":\"Court House\",\"marker\":{\"color\":\"#FFA15A\",\"symbol\":\"circle\"},\"mode\":\"markers\",\"name\":\"Court House\",\"orientation\":\"v\",\"showlegend\":true,\"x\":[3571],\"xaxis\":\"x\",\"y\":[1.5401848221786614],\"yaxis\":\"y\",\"type\":\"scatter\"},{\"hovertemplate\":\"\\u003cb\\u003e%{hovertext}\\u003c\\u002fb\\u003e\\u003cbr\\u003e\\u003cbr\\u003eStation Name=Cheverly\\u003cbr\\u003eAvg Daily Entries=%{x}\\u003cbr\\u003epercentage=%{y}\\u003cextra\\u003e\\u003c\\u002fextra\\u003e\",\"hovertext\":[\"Cheverly\"],\"legendgroup\":\"Cheverly\",\"marker\":{\"color\":\"#19d3f3\",\"symbol\":\"circle\"},\"mode\":\"markers\",\"name\":\"Cheverly\",\"orientation\":\"v\",\"showlegend\":true,\"x\":[507],\"xaxis\":\"x\",\"y\":[10.256410256410255],\"yaxis\":\"y\",\"type\":\"scatter\"},{\"hovertemplate\":\"\\u003cb\\u003e%{hovertext}\\u003c\\u002fb\\u003e\\u003cbr\\u003e\\u003cbr\\u003eStation Name=Federal Center SW\\u003cbr\\u003eAvg Daily Entries=%{x}\\u003cbr\\u003epercentage=%{y}\\u003cextra\\u003e\\u003c\\u002fextra\\u003e\",\"hovertext\":[\"Federal Center SW\"],\"legendgroup\":\"Federal Center SW\",\"marker\":{\"color\":\"#FF6692\",\"symbol\":\"circle\"},\"mode\":\"markers\",\"name\":\"Federal Center SW\",\"orientation\":\"v\",\"showlegend\":true,\"x\":[2153],\"xaxis\":\"x\",\"y\":[2.3223409196470044],\"yaxis\":\"y\",\"type\":\"scatter\"},{\"hovertemplate\":\"\\u003cb\\u003e%{hovertext}\\u003c\\u002fb\\u003e\\u003cbr\\u003e\\u003cbr\\u003eStation Name=Ashburn\\u003cbr\\u003eAvg Daily Entries=%{x}\\u003cbr\\u003epercentage=%{y}\\u003cextra\\u003e\\u003c\\u002fextra\\u003e\",\"hovertext\":[\"Ashburn\"],\"legendgroup\":\"Ashburn\",\"marker\":{\"color\":\"#B6E880\",\"symbol\":\"circle\"},\"mode\":\"markers\",\"name\":\"Ashburn\",\"orientation\":\"v\",\"showlegend\":true,\"x\":[1258],\"xaxis\":\"x\",\"y\":[3.6565977742448332],\"yaxis\":\"y\",\"type\":\"scatter\"},{\"hovertemplate\":\"\\u003cb\\u003e%{hovertext}\\u003c\\u002fb\\u003e\\u003cbr\\u003e\\u003cbr\\u003eStation Name=McLean\\u003cbr\\u003eAvg Daily Entries=%{x}\\u003cbr\\u003epercentage=%{y}\\u003cextra\\u003e\\u003c\\u002fextra\\u003e\",\"hovertext\":[\"McLean\"],\"legendgroup\":\"McLean\",\"marker\":{\"color\":\"#FF97FF\",\"symbol\":\"circle\"},\"mode\":\"markers\",\"name\":\"McLean\",\"orientation\":\"v\",\"showlegend\":true,\"x\":[1614],\"xaxis\":\"x\",\"y\":[2.7881040892193307],\"yaxis\":\"y\",\"type\":\"scatter\"},{\"hovertemplate\":\"\\u003cb\\u003e%{hovertext}\\u003c\\u002fb\\u003e\\u003cbr\\u003e\\u003cbr\\u003eStation Name=Eisenhower Ave\\u003cbr\\u003eAvg Daily Entries=%{x}\\u003cbr\\u003epercentage=%{y}\\u003cextra\\u003e\\u003c\\u002fextra\\u003e\",\"hovertext\":[\"Eisenhower Ave\"],\"legendgroup\":\"Eisenhower Ave\",\"marker\":{\"color\":\"#FECB52\",\"symbol\":\"circle\"},\"mode\":\"markers\",\"name\":\"Eisenhower Ave\",\"orientation\":\"v\",\"showlegend\":true,\"x\":[1220],\"xaxis\":\"x\",\"y\":[3.606557377049181],\"yaxis\":\"y\",\"type\":\"scatter\"},{\"hovertemplate\":\"\\u003cb\\u003e%{hovertext}\\u003c\\u002fb\\u003e\\u003cbr\\u003e\\u003cbr\\u003eStation Name=Greensboro\\u003cbr\\u003eAvg Daily Entries=%{x}\\u003cbr\\u003epercentage=%{y}\\u003cextra\\u003e\\u003c\\u002fextra\\u003e\",\"hovertext\":[\"Greensboro\"],\"legendgroup\":\"Greensboro\",\"marker\":{\"color\":\"#636efa\",\"symbol\":\"circle\"},\"mode\":\"markers\",\"name\":\"Greensboro\",\"orientation\":\"v\",\"showlegend\":true,\"x\":[892],\"xaxis\":\"x\",\"y\":[4.708520179372197],\"yaxis\":\"y\",\"type\":\"scatter\"},{\"hovertemplate\":\"\\u003cb\\u003e%{hovertext}\\u003c\\u002fb\\u003e\\u003cbr\\u003e\\u003cbr\\u003eStation Name=Reston Town Center\\u003cbr\\u003eAvg Daily Entries=%{x}\\u003cbr\\u003epercentage=%{y}\\u003cextra\\u003e\\u003c\\u002fextra\\u003e\",\"hovertext\":[\"Reston Town Center\"],\"legendgroup\":\"Reston Town Center\",\"marker\":{\"color\":\"#EF553B\",\"symbol\":\"circle\"},\"mode\":\"markers\",\"name\":\"Reston Town Center\",\"orientation\":\"v\",\"showlegend\":true,\"x\":[828],\"xaxis\":\"x\",\"y\":[4.5893719806763285],\"yaxis\":\"y\",\"type\":\"scatter\"},{\"hovertemplate\":\"\\u003cb\\u003e%{hovertext}\\u003c\\u002fb\\u003e\\u003cbr\\u003e\\u003cbr\\u003eStation Name=Arlington Cemetery\\u003cbr\\u003eAvg Daily Entries=%{x}\\u003cbr\\u003epercentage=%{y}\\u003cextra\\u003e\\u003c\\u002fextra\\u003e\",\"hovertext\":[\"Arlington Cemetery\"],\"legendgroup\":\"Arlington Cemetery\",\"marker\":{\"color\":\"#00cc96\",\"symbol\":\"circle\"},\"mode\":\"markers\",\"name\":\"Arlington Cemetery\",\"orientation\":\"v\",\"showlegend\":true,\"x\":[1039],\"xaxis\":\"x\",\"y\":[3.6573628488931664],\"yaxis\":\"y\",\"type\":\"scatter\"},{\"hovertemplate\":\"\\u003cb\\u003e%{hovertext}\\u003c\\u002fb\\u003e\\u003cbr\\u003e\\u003cbr\\u003eStation Name=Spring Hill\\u003cbr\\u003eAvg Daily Entries=%{x}\\u003cbr\\u003epercentage=%{y}\\u003cextra\\u003e\\u003c\\u002fextra\\u003e\",\"hovertext\":[\"Spring Hill\"],\"legendgroup\":\"Spring Hill\",\"marker\":{\"color\":\"#ab63fa\",\"symbol\":\"circle\"},\"mode\":\"markers\",\"name\":\"Spring Hill\",\"orientation\":\"v\",\"showlegend\":true,\"x\":[644],\"xaxis\":\"x\",\"y\":[5.745341614906832],\"yaxis\":\"y\",\"type\":\"scatter\"},{\"hovertemplate\":\"\\u003cb\\u003e%{hovertext}\\u003c\\u002fb\\u003e\\u003cbr\\u003e\\u003cbr\\u003eStation Name=Innovation Center\\u003cbr\\u003eAvg Daily Entries=%{x}\\u003cbr\\u003epercentage=%{y}\\u003cextra\\u003e\\u003c\\u002fextra\\u003e\",\"hovertext\":[\"Innovation Center\"],\"legendgroup\":\"Innovation Center\",\"marker\":{\"color\":\"#FFA15A\",\"symbol\":\"circle\"},\"mode\":\"markers\",\"name\":\"Innovation Center\",\"orientation\":\"v\",\"showlegend\":true,\"x\":[826],\"xaxis\":\"x\",\"y\":[3.9951573849878934],\"yaxis\":\"y\",\"type\":\"scatter\"},{\"hovertemplate\":\"\\u003cb\\u003e%{hovertext}\\u003c\\u002fb\\u003e\\u003cbr\\u003e\\u003cbr\\u003eStation Name=Herndon\\u003cbr\\u003eAvg Daily Entries=%{x}\\u003cbr\\u003epercentage=%{y}\\u003cextra\\u003e\\u003c\\u002fextra\\u003e\",\"hovertext\":[\"Herndon\"],\"legendgroup\":\"Herndon\",\"marker\":{\"color\":\"#19d3f3\",\"symbol\":\"circle\"},\"mode\":\"markers\",\"name\":\"Herndon\",\"orientation\":\"v\",\"showlegend\":true,\"x\":[856],\"xaxis\":\"x\",\"y\":[3.0373831775700935],\"yaxis\":\"y\",\"type\":\"scatter\"},{\"hovertemplate\":\"\\u003cb\\u003e%{hovertext}\\u003c\\u002fb\\u003e\\u003cbr\\u003e\\u003cbr\\u003eStation Name=West Falls Church\\u003cbr\\u003eAvg Daily Entries=%{x}\\u003cbr\\u003epercentage=%{y}\\u003cextra\\u003e\\u003c\\u002fextra\\u003e\",\"hovertext\":[\"West Falls Church\"],\"legendgroup\":\"West Falls Church\",\"marker\":{\"color\":\"#FF6692\",\"symbol\":\"circle\"},\"mode\":\"markers\",\"name\":\"West Falls Church\",\"orientation\":\"v\",\"showlegend\":true,\"x\":[1050],\"xaxis\":\"x\",\"y\":[2.1904761904761907],\"yaxis\":\"y\",\"type\":\"scatter\"},{\"hovertemplate\":\"\\u003cb\\u003e%{hovertext}\\u003c\\u002fb\\u003e\\u003cbr\\u003e\\u003cbr\\u003eStation Name=Loudoun Gateway\\u003cbr\\u003eAvg Daily Entries=%{x}\\u003cbr\\u003epercentage=%{y}\\u003cextra\\u003e\\u003c\\u002fextra\\u003e\",\"hovertext\":[\"Loudoun Gateway\"],\"legendgroup\":\"Loudoun Gateway\",\"marker\":{\"color\":\"#B6E880\",\"symbol\":\"circle\"},\"mode\":\"markers\",\"name\":\"Loudoun Gateway\",\"orientation\":\"v\",\"showlegend\":true,\"x\":[268],\"xaxis\":\"x\",\"y\":[4.104477611940299],\"yaxis\":\"y\",\"type\":\"scatter\"}],                        {\"template\":{\"data\":{\"histogram2dcontour\":[{\"type\":\"histogram2dcontour\",\"colorbar\":{\"outlinewidth\":0,\"ticks\":\"\"},\"colorscale\":[[0.0,\"#0d0887\"],[0.1111111111111111,\"#46039f\"],[0.2222222222222222,\"#7201a8\"],[0.3333333333333333,\"#9c179e\"],[0.4444444444444444,\"#bd3786\"],[0.5555555555555556,\"#d8576b\"],[0.6666666666666666,\"#ed7953\"],[0.7777777777777778,\"#fb9f3a\"],[0.8888888888888888,\"#fdca26\"],[1.0,\"#f0f921\"]]}],\"choropleth\":[{\"type\":\"choropleth\",\"colorbar\":{\"outlinewidth\":0,\"ticks\":\"\"}}],\"histogram2d\":[{\"type\":\"histogram2d\",\"colorbar\":{\"outlinewidth\":0,\"ticks\":\"\"},\"colorscale\":[[0.0,\"#0d0887\"],[0.1111111111111111,\"#46039f\"],[0.2222222222222222,\"#7201a8\"],[0.3333333333333333,\"#9c179e\"],[0.4444444444444444,\"#bd3786\"],[0.5555555555555556,\"#d8576b\"],[0.6666666666666666,\"#ed7953\"],[0.7777777777777778,\"#fb9f3a\"],[0.8888888888888888,\"#fdca26\"],[1.0,\"#f0f921\"]]}],\"heatmap\":[{\"type\":\"heatmap\",\"colorbar\":{\"outlinewidth\":0,\"ticks\":\"\"},\"colorscale\":[[0.0,\"#0d0887\"],[0.1111111111111111,\"#46039f\"],[0.2222222222222222,\"#7201a8\"],[0.3333333333333333,\"#9c179e\"],[0.4444444444444444,\"#bd3786\"],[0.5555555555555556,\"#d8576b\"],[0.6666666666666666,\"#ed7953\"],[0.7777777777777778,\"#fb9f3a\"],[0.8888888888888888,\"#fdca26\"],[1.0,\"#f0f921\"]]}],\"heatmapgl\":[{\"type\":\"heatmapgl\",\"colorbar\":{\"outlinewidth\":0,\"ticks\":\"\"},\"colorscale\":[[0.0,\"#0d0887\"],[0.1111111111111111,\"#46039f\"],[0.2222222222222222,\"#7201a8\"],[0.3333333333333333,\"#9c179e\"],[0.4444444444444444,\"#bd3786\"],[0.5555555555555556,\"#d8576b\"],[0.6666666666666666,\"#ed7953\"],[0.7777777777777778,\"#fb9f3a\"],[0.8888888888888888,\"#fdca26\"],[1.0,\"#f0f921\"]]}],\"contourcarpet\":[{\"type\":\"contourcarpet\",\"colorbar\":{\"outlinewidth\":0,\"ticks\":\"\"}}],\"contour\":[{\"type\":\"contour\",\"colorbar\":{\"outlinewidth\":0,\"ticks\":\"\"},\"colorscale\":[[0.0,\"#0d0887\"],[0.1111111111111111,\"#46039f\"],[0.2222222222222222,\"#7201a8\"],[0.3333333333333333,\"#9c179e\"],[0.4444444444444444,\"#bd3786\"],[0.5555555555555556,\"#d8576b\"],[0.6666666666666666,\"#ed7953\"],[0.7777777777777778,\"#fb9f3a\"],[0.8888888888888888,\"#fdca26\"],[1.0,\"#f0f921\"]]}],\"surface\":[{\"type\":\"surface\",\"colorbar\":{\"outlinewidth\":0,\"ticks\":\"\"},\"colorscale\":[[0.0,\"#0d0887\"],[0.1111111111111111,\"#46039f\"],[0.2222222222222222,\"#7201a8\"],[0.3333333333333333,\"#9c179e\"],[0.4444444444444444,\"#bd3786\"],[0.5555555555555556,\"#d8576b\"],[0.6666666666666666,\"#ed7953\"],[0.7777777777777778,\"#fb9f3a\"],[0.8888888888888888,\"#fdca26\"],[1.0,\"#f0f921\"]]}],\"mesh3d\":[{\"type\":\"mesh3d\",\"colorbar\":{\"outlinewidth\":0,\"ticks\":\"\"}}],\"scatter\":[{\"fillpattern\":{\"fillmode\":\"overlay\",\"size\":10,\"solidity\":0.2},\"type\":\"scatter\"}],\"parcoords\":[{\"type\":\"parcoords\",\"line\":{\"colorbar\":{\"outlinewidth\":0,\"ticks\":\"\"}}}],\"scatterpolargl\":[{\"type\":\"scatterpolargl\",\"marker\":{\"colorbar\":{\"outlinewidth\":0,\"ticks\":\"\"}}}],\"bar\":[{\"error_x\":{\"color\":\"#2a3f5f\"},\"error_y\":{\"color\":\"#2a3f5f\"},\"marker\":{\"line\":{\"color\":\"#E5ECF6\",\"width\":0.5},\"pattern\":{\"fillmode\":\"overlay\",\"size\":10,\"solidity\":0.2}},\"type\":\"bar\"}],\"scattergeo\":[{\"type\":\"scattergeo\",\"marker\":{\"colorbar\":{\"outlinewidth\":0,\"ticks\":\"\"}}}],\"scatterpolar\":[{\"type\":\"scatterpolar\",\"marker\":{\"colorbar\":{\"outlinewidth\":0,\"ticks\":\"\"}}}],\"histogram\":[{\"marker\":{\"pattern\":{\"fillmode\":\"overlay\",\"size\":10,\"solidity\":0.2}},\"type\":\"histogram\"}],\"scattergl\":[{\"type\":\"scattergl\",\"marker\":{\"colorbar\":{\"outlinewidth\":0,\"ticks\":\"\"}}}],\"scatter3d\":[{\"type\":\"scatter3d\",\"line\":{\"colorbar\":{\"outlinewidth\":0,\"ticks\":\"\"}},\"marker\":{\"colorbar\":{\"outlinewidth\":0,\"ticks\":\"\"}}}],\"scattermapbox\":[{\"type\":\"scattermapbox\",\"marker\":{\"colorbar\":{\"outlinewidth\":0,\"ticks\":\"\"}}}],\"scatterternary\":[{\"type\":\"scatterternary\",\"marker\":{\"colorbar\":{\"outlinewidth\":0,\"ticks\":\"\"}}}],\"scattercarpet\":[{\"type\":\"scattercarpet\",\"marker\":{\"colorbar\":{\"outlinewidth\":0,\"ticks\":\"\"}}}],\"carpet\":[{\"aaxis\":{\"endlinecolor\":\"#2a3f5f\",\"gridcolor\":\"white\",\"linecolor\":\"white\",\"minorgridcolor\":\"white\",\"startlinecolor\":\"#2a3f5f\"},\"baxis\":{\"endlinecolor\":\"#2a3f5f\",\"gridcolor\":\"white\",\"linecolor\":\"white\",\"minorgridcolor\":\"white\",\"startlinecolor\":\"#2a3f5f\"},\"type\":\"carpet\"}],\"table\":[{\"cells\":{\"fill\":{\"color\":\"#EBF0F8\"},\"line\":{\"color\":\"white\"}},\"header\":{\"fill\":{\"color\":\"#C8D4E3\"},\"line\":{\"color\":\"white\"}},\"type\":\"table\"}],\"barpolar\":[{\"marker\":{\"line\":{\"color\":\"#E5ECF6\",\"width\":0.5},\"pattern\":{\"fillmode\":\"overlay\",\"size\":10,\"solidity\":0.2}},\"type\":\"barpolar\"}],\"pie\":[{\"automargin\":true,\"type\":\"pie\"}]},\"layout\":{\"autotypenumbers\":\"strict\",\"colorway\":[\"#636efa\",\"#EF553B\",\"#00cc96\",\"#ab63fa\",\"#FFA15A\",\"#19d3f3\",\"#FF6692\",\"#B6E880\",\"#FF97FF\",\"#FECB52\"],\"font\":{\"color\":\"#2a3f5f\"},\"hovermode\":\"closest\",\"hoverlabel\":{\"align\":\"left\"},\"paper_bgcolor\":\"white\",\"plot_bgcolor\":\"#E5ECF6\",\"polar\":{\"bgcolor\":\"#E5ECF6\",\"angularaxis\":{\"gridcolor\":\"white\",\"linecolor\":\"white\",\"ticks\":\"\"},\"radialaxis\":{\"gridcolor\":\"white\",\"linecolor\":\"white\",\"ticks\":\"\"}},\"ternary\":{\"bgcolor\":\"#E5ECF6\",\"aaxis\":{\"gridcolor\":\"white\",\"linecolor\":\"white\",\"ticks\":\"\"},\"baxis\":{\"gridcolor\":\"white\",\"linecolor\":\"white\",\"ticks\":\"\"},\"caxis\":{\"gridcolor\":\"white\",\"linecolor\":\"white\",\"ticks\":\"\"}},\"coloraxis\":{\"colorbar\":{\"outlinewidth\":0,\"ticks\":\"\"}},\"colorscale\":{\"sequential\":[[0.0,\"#0d0887\"],[0.1111111111111111,\"#46039f\"],[0.2222222222222222,\"#7201a8\"],[0.3333333333333333,\"#9c179e\"],[0.4444444444444444,\"#bd3786\"],[0.5555555555555556,\"#d8576b\"],[0.6666666666666666,\"#ed7953\"],[0.7777777777777778,\"#fb9f3a\"],[0.8888888888888888,\"#fdca26\"],[1.0,\"#f0f921\"]],\"sequentialminus\":[[0.0,\"#0d0887\"],[0.1111111111111111,\"#46039f\"],[0.2222222222222222,\"#7201a8\"],[0.3333333333333333,\"#9c179e\"],[0.4444444444444444,\"#bd3786\"],[0.5555555555555556,\"#d8576b\"],[0.6666666666666666,\"#ed7953\"],[0.7777777777777778,\"#fb9f3a\"],[0.8888888888888888,\"#fdca26\"],[1.0,\"#f0f921\"]],\"diverging\":[[0,\"#8e0152\"],[0.1,\"#c51b7d\"],[0.2,\"#de77ae\"],[0.3,\"#f1b6da\"],[0.4,\"#fde0ef\"],[0.5,\"#f7f7f7\"],[0.6,\"#e6f5d0\"],[0.7,\"#b8e186\"],[0.8,\"#7fbc41\"],[0.9,\"#4d9221\"],[1,\"#276419\"]]},\"xaxis\":{\"gridcolor\":\"white\",\"linecolor\":\"white\",\"ticks\":\"\",\"title\":{\"standoff\":15},\"zerolinecolor\":\"white\",\"automargin\":true,\"zerolinewidth\":2},\"yaxis\":{\"gridcolor\":\"white\",\"linecolor\":\"white\",\"ticks\":\"\",\"title\":{\"standoff\":15},\"zerolinecolor\":\"white\",\"automargin\":true,\"zerolinewidth\":2},\"scene\":{\"xaxis\":{\"backgroundcolor\":\"#E5ECF6\",\"gridcolor\":\"white\",\"linecolor\":\"white\",\"showbackground\":true,\"ticks\":\"\",\"zerolinecolor\":\"white\",\"gridwidth\":2},\"yaxis\":{\"backgroundcolor\":\"#E5ECF6\",\"gridcolor\":\"white\",\"linecolor\":\"white\",\"showbackground\":true,\"ticks\":\"\",\"zerolinecolor\":\"white\",\"gridwidth\":2},\"zaxis\":{\"backgroundcolor\":\"#E5ECF6\",\"gridcolor\":\"white\",\"linecolor\":\"white\",\"showbackground\":true,\"ticks\":\"\",\"zerolinecolor\":\"white\",\"gridwidth\":2}},\"shapedefaults\":{\"line\":{\"color\":\"#2a3f5f\"}},\"annotationdefaults\":{\"arrowcolor\":\"#2a3f5f\",\"arrowhead\":0,\"arrowwidth\":1},\"geo\":{\"bgcolor\":\"white\",\"landcolor\":\"#E5ECF6\",\"subunitcolor\":\"white\",\"showland\":true,\"showlakes\":true,\"lakecolor\":\"white\"},\"title\":{\"x\":0.05},\"mapbox\":{\"style\":\"light\"}}},\"xaxis\":{\"anchor\":\"y\",\"domain\":[0.0,1.0],\"title\":{\"text\":\"Daily Entries\"}},\"yaxis\":{\"anchor\":\"x\",\"domain\":[0.0,1.0],\"title\":{\"text\":\"Percentage\"}},\"legend\":{\"title\":{\"text\":\"Station Name\"},\"tracegroupgap\":0},\"margin\":{\"t\":60}},                        {\"responsive\": true}                    ).then(function(){\n",
       "                            \n",
       "var gd = document.getElementById('e65fa7f4-b285-45e5-8399-ccfe898f29ff');\n",
       "var x = new MutationObserver(function (mutations, observer) {{\n",
       "        var display = window.getComputedStyle(gd).display;\n",
       "        if (!display || display === 'none') {{\n",
       "            console.log([gd, 'removed!']);\n",
       "            Plotly.purge(gd);\n",
       "            observer.disconnect();\n",
       "        }}\n",
       "}});\n",
       "\n",
       "// Listen for the removal of the full notebook cells\n",
       "var notebookContainer = gd.closest('#notebook-container');\n",
       "if (notebookContainer) {{\n",
       "    x.observe(notebookContainer, {childList: true});\n",
       "}}\n",
       "\n",
       "// Listen for the clearing of the current output cell\n",
       "var outputEl = gd.closest('.output');\n",
       "if (outputEl) {{\n",
       "    x.observe(outputEl, {childList: true});\n",
       "}}\n",
       "\n",
       "                        })                };                });            </script>        </div>"
      ]
     },
     "metadata": {},
     "output_type": "display_data"
    }
   ],
   "source": [
    "import pandas as pd\n",
    "df = pd.read_csv(\"cleaned_tap_DOTW.csv\")\n",
    "df['percentage'] = df['Avg Daily NonTapped Entries'] / df['Avg Daily Entries'] * 100\n",
    "\n",
    "import plotly.express as px\n",
    "fig = px.scatter(df,\n",
    "    x='Avg Daily Entries', \n",
    "    y=df['percentage'],\n",
    "    color='Station Name',  \n",
    "    hover_name='Station Name',  \n",
    "    )\n",
    "fig.update_layout(\n",
    "    xaxis_title='Daily Entries',\n",
    "    yaxis_title='Percentage'\n",
    ")\n",
    "fig.show()"
   ]
  }
 ],
 "metadata": {
  "kernelspec": {
   "display_name": "sd212",
   "language": "python",
   "name": "python3"
  },
  "language_info": {
   "codemirror_mode": {
    "name": "ipython",
    "version": 3
   },
   "file_extension": ".py",
   "mimetype": "text/x-python",
   "name": "python",
   "nbconvert_exporter": "python",
   "pygments_lexer": "ipython3",
   "version": "3.12.8"
  }
 },
 "nbformat": 4,
 "nbformat_minor": 2
}
